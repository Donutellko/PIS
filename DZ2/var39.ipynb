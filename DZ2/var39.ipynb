{
 "cells": [
  {
   "cell_type": "markdown",
   "metadata": {},
   "source": [
    "Донат Шергалис, 3530903/70301  \n",
    "Вариант: 39"
   ]
  },
  {
   "cell_type": "markdown",
   "metadata": {},
   "source": [
    "Считать данные файла c помощью языка python и среды разработки Jupyter и выполнить следующие действия:\n",
    "- Найти среднее и дисперсию каждого столбца.\n",
    "- Визуализировать датасет любым удобным способом. Можно несколькими графиками.\n",
    "- Построить графики для каждой пары признаков в наборе данных.\n",
    "- Построить гистограмму каждого из признаков.\n",
    "- Найти выбросы. Удалить их.\n",
    "     Если номер варианта четный - удалить всю строку данных из выборки.\n",
    "     Если номер варианта не четный - присвоить выбросам среднее значение.\n",
    "- Найти новые средние и дисперсии, сравнить со старыми.\n",
    "- Нормализовать данные по среднему и дисперсии.\n",
    "\n",
    "При сдаче данного задания в первую очередь будет проверяться код и решения, которые вы выбрали для реализации.\n",
    "Схожие решения в большом количестве пунктов будут приняты за списывание с выдачей нового, другого, дополнительного задания.\n",
    "Лучше просто не подглядывайте к коллегам."
   ]
  },
  {
   "cell_type": "code",
   "execution_count": 1,
   "metadata": {},
   "outputs": [],
   "source": [
    "import numpy as np\n",
    "import pandas as pd\n",
    "import matplotlib.pyplot as plt\n",
    "import itertools\n",
    "%matplotlib inline"
   ]
  },
  {
   "cell_type": "code",
   "execution_count": 2,
   "metadata": {},
   "outputs": [
    {
     "data": {
      "text/plain": [
       "dict"
      ]
     },
     "execution_count": 2,
     "metadata": {},
     "output_type": "execute_result"
    }
   ],
   "source": [
    "inp = pd.read_pickle('data/var39.pkl')\n",
    "type(inp)"
   ]
  },
  {
   "cell_type": "code",
   "execution_count": 3,
   "metadata": {},
   "outputs": [
    {
     "data": {
      "text/html": [
       "<div>\n",
       "<style scoped>\n",
       "    .dataframe tbody tr th:only-of-type {\n",
       "        vertical-align: middle;\n",
       "    }\n",
       "\n",
       "    .dataframe tbody tr th {\n",
       "        vertical-align: top;\n",
       "    }\n",
       "\n",
       "    .dataframe thead th {\n",
       "        text-align: right;\n",
       "    }\n",
       "</style>\n",
       "<table border=\"1\" class=\"dataframe\">\n",
       "  <thead>\n",
       "    <tr style=\"text-align: right;\">\n",
       "      <th></th>\n",
       "      <th>dgjwh</th>\n",
       "      <th>aaweh</th>\n",
       "      <th>ycmjp</th>\n",
       "    </tr>\n",
       "  </thead>\n",
       "  <tbody>\n",
       "    <tr>\n",
       "      <th>0</th>\n",
       "      <td>15.577687</td>\n",
       "      <td>14.090571</td>\n",
       "      <td>7.114333</td>\n",
       "    </tr>\n",
       "    <tr>\n",
       "      <th>1</th>\n",
       "      <td>19.904222</td>\n",
       "      <td>8.546078</td>\n",
       "      <td>22.747730</td>\n",
       "    </tr>\n",
       "    <tr>\n",
       "      <th>2</th>\n",
       "      <td>-125.721670</td>\n",
       "      <td>15.059860</td>\n",
       "      <td>14.053320</td>\n",
       "    </tr>\n",
       "    <tr>\n",
       "      <th>3</th>\n",
       "      <td>17.347532</td>\n",
       "      <td>14.077212</td>\n",
       "      <td>6.468136</td>\n",
       "    </tr>\n",
       "    <tr>\n",
       "      <th>4</th>\n",
       "      <td>15.357031</td>\n",
       "      <td>17.538997</td>\n",
       "      <td>10.946368</td>\n",
       "    </tr>\n",
       "  </tbody>\n",
       "</table>\n",
       "</div>"
      ],
      "text/plain": [
       "        dgjwh      aaweh      ycmjp\n",
       "0   15.577687  14.090571   7.114333\n",
       "1   19.904222   8.546078  22.747730\n",
       "2 -125.721670  15.059860  14.053320\n",
       "3   17.347532  14.077212   6.468136\n",
       "4   15.357031  17.538997  10.946368"
      ]
     },
     "execution_count": 3,
     "metadata": {},
     "output_type": "execute_result"
    }
   ],
   "source": [
    "data = pd.DataFrame.from_dict(inp)\n",
    "data.head()"
   ]
  },
  {
   "cell_type": "markdown",
   "metadata": {},
   "source": [
    "### Найти среднее и дисперсию каждого столбца."
   ]
  },
  {
   "cell_type": "code",
   "execution_count": 4,
   "metadata": {},
   "outputs": [
    {
     "name": "stdout",
     "output_type": "stream",
     "text": [
      "столбец dgjwh:\t среднее: 10.61\t дисперсия: 546.39\n",
      "столбец aaweh:\t среднее: 12.25\t дисперсия: 261.33\n",
      "столбец ycmjp:\t среднее: 12.0\t дисперсия: 509.75\n"
     ]
    }
   ],
   "source": [
    "def round2(num):\n",
    "    return np.round(num, 2)\n",
    "\n",
    "def get_avg_var(column):\n",
    "    avg = np.average(column)\n",
    "    var = np.var(column)\n",
    "    return avg, var\n",
    "\n",
    "def show_avg_var(data):\n",
    "    for colname in data.columns:\n",
    "        avg, var = get_avg_var(data[colname])\n",
    "        print(f\"столбец {colname}:\\t среднее: {round2(avg)}\\t дисперсия: {round2(var)}\")\n",
    "        \n",
    "show_avg_var(data)"
   ]
  },
  {
   "cell_type": "markdown",
   "metadata": {},
   "source": [
    "### Визуализировать датасет любым удобным способом. Можно несколькими графиками."
   ]
  },
  {
   "cell_type": "code",
   "execution_count": 29,
   "metadata": {},
   "outputs": [
    {
     "data": {
      "text/plain": [
       "[<matplotlib.lines.Line2D at 0x128d8c850>,\n",
       " <matplotlib.lines.Line2D at 0x128da1050>,\n",
       " <matplotlib.lines.Line2D at 0x128d8c590>]"
      ]
     },
     "execution_count": 29,
     "metadata": {},
     "output_type": "execute_result"
    },
    {
     "data": {
      "image/png": "[encoded data removed]",
      "text/plain": [
       "<Figure size 432x288 with 1 Axes>"
      ]
     },
     "metadata": {
      "needs_background": "light"
     },
     "output_type": "display_data"
    }
   ],
   "source": [
    "plt.plot(data, '.')"
   ]
  },
  {
   "cell_type": "code",
   "execution_count": 6,
   "metadata": {},
   "outputs": [
    {
     "name": "stdout",
     "output_type": "stream",
     "text": [
      "Распределение значений dgjwh\n"
     ]
    },
    {
     "data": {
      "image/png": "[encoded data removed]",
      "text/plain": [
       "<Figure size 432x288 with 1 Axes>"
      ]
     },
     "metadata": {
      "needs_background": "light"
     },
     "output_type": "display_data"
    },
    {
     "name": "stdout",
     "output_type": "stream",
     "text": [
      "Распределение значений aaweh\n"
     ]
    },
    {
     "data": {
      "image/png": "[encoded data removed]",
      "text/plain": [
       "<Figure size 432x288 with 1 Axes>"
      ]
     },
     "metadata": {
      "needs_background": "light"
     },
     "output_type": "display_data"
    },
    {
     "name": "stdout",
     "output_type": "stream",
     "text": [
      "Распределение значений ycmjp\n"
     ]
    },
    {
     "data": {
      "image/png": "[encoded data removed]",
      "text/plain": [
       "<Figure size 432x288 with 1 Axes>"
      ]
     },
     "metadata": {
      "needs_background": "light"
     },
     "output_type": "display_data"
    }
   ],
   "source": [
    "def demonstrate_columns(data):\n",
    "    for colname in data.columns:\n",
    "        print(\"Распределение значений\", colname)\n",
    "        sorted = np.sort(data[colname])\n",
    "        plt.xticks([])\n",
    "        plt.plot(sorted, '.')\n",
    "        plt.show()\n",
    "\n",
    "demonstrate_columns(data)"
   ]
  },
  {
   "cell_type": "markdown",
   "metadata": {},
   "source": [
    "### Построить графики для каждой пары признаков в наборе данных."
   ]
  },
  {
   "cell_type": "code",
   "execution_count": 7,
   "metadata": {},
   "outputs": [
    {
     "data": {
      "image/png": "[encoded data removed]",
      "text/plain": [
       "<Figure size 432x288 with 1 Axes>"
      ]
     },
     "metadata": {
      "needs_background": "light"
     },
     "output_type": "display_data"
    },
    {
     "data": {
      "image/png": "[encoded data removed]",
      "text/plain": [
       "<Figure size 432x288 with 1 Axes>"
      ]
     },
     "metadata": {
      "needs_background": "light"
     },
     "output_type": "display_data"
    },
    {
     "data": {
      "image/png": "[encoded data removed]",
      "text/plain": [
       "<Figure size 432x288 with 1 Axes>"
      ]
     },
     "metadata": {
      "needs_background": "light"
     },
     "output_type": "display_data"
    }
   ],
   "source": [
    "def draw_combinations(data):\n",
    "    colcount = len(data.columns)\n",
    "    for col1, col2 in itertools.combinations(data.columns, 2):\n",
    "        fig, ax = plt.subplots()\n",
    "        ax.set_xlabel(col1)\n",
    "        ax.set_ylabel(col2)\n",
    "        ax.plot(data[col1], data[col2], '.')\n",
    "\n",
    "draw_combinations(data)"
   ]
  },
  {
   "cell_type": "markdown",
   "metadata": {},
   "source": [
    "### Построить гистограмму каждого из признаков."
   ]
  },
  {
   "cell_type": "code",
   "execution_count": 26,
   "metadata": {},
   "outputs": [
    {
     "name": "stdout",
     "output_type": "stream",
     "text": [
      "Колонка dgjwh:\n"
     ]
    },
    {
     "data": {
      "image/png": "[encoded data removed]",
      "text/plain": [
       "<Figure size 432x288 with 1 Axes>"
      ]
     },
     "metadata": {
      "needs_background": "light"
     },
     "output_type": "display_data"
    },
    {
     "name": "stdout",
     "output_type": "stream",
     "text": [
      "Колонка aaweh:\n"
     ]
    },
    {
     "data": {
      "image/png": "[encoded data removed]",
      "text/plain": [
       "<Figure size 432x288 with 1 Axes>"
      ]
     },
     "metadata": {
      "needs_background": "light"
     },
     "output_type": "display_data"
    },
    {
     "name": "stdout",
     "output_type": "stream",
     "text": [
      "Колонка ycmjp:\n"
     ]
    },
    {
     "data": {
      "image/png": "[encoded data removed]",
      "text/plain": [
       "<Figure size 432x288 with 1 Axes>"
      ]
     },
     "metadata": {
      "needs_background": "light"
     },
     "output_type": "display_data"
    }
   ],
   "source": [
    "def draw_hists(data):\n",
    "    for colname in data.columns:\n",
    "        print(f\"Колонка {colname}:\")\n",
    "        plt.hist(data[colname], 100)\n",
    "        plt.show()\n",
    "\n",
    "draw_hists(data)"
   ]
  },
  {
   "cell_type": "markdown",
   "metadata": {},
   "source": [
    "### Найти выбросы. Удалить их. Если номер варианта четный - удалить всю строку данных из выборки. Если номер варианта не четный - присвоить выбросам среднее значение."
   ]
  },
  {
   "cell_type": "code",
   "execution_count": 9,
   "metadata": {},
   "outputs": [
    {
     "name": "stdout",
     "output_type": "stream",
     "text": [
      "dgjwh:\n",
      "\t-125.72\t-> 10.6087388586702\n",
      "\t-167.87\t-> 10.6087388586702\n",
      "aaweh:\n",
      "\t-135.81\t-> 12.254383266433123\n",
      "\t33.91\t-> 12.254383266433123\n",
      "ycmjp:\n",
      "\t-104.83\t-> 11.999313056492742\n",
      "\t-167.49\t-> 11.999313056492742\n"
     ]
    }
   ],
   "source": [
    "clean_data = data.copy()\n",
    "for colname in clean_data.columns:\n",
    "    print(colname + \":\")\n",
    "    col = clean_data[colname]\n",
    "    avg, var = get_avg_var(col)\n",
    "    sd = np.sqrt(var)\n",
    "    for i in range(len(col)):\n",
    "        if (np.abs(col[i] - avg) > sd):\n",
    "            print(f\"\\t{np.round(col[i], 2)}\\t-> {avg}\")\n",
    "            col[i] = avg # вариант нечётный"
   ]
  },
  {
   "cell_type": "code",
   "execution_count": 18,
   "metadata": {},
   "outputs": [
    {
     "name": "stdout",
     "output_type": "stream",
     "text": [
      "Распределение значений dgjwh\n"
     ]
    },
    {
     "data": {
      "image/png": "[encoded data removed]",
      "text/plain": [
       "<Figure size 432x288 with 1 Axes>"
      ]
     },
     "metadata": {
      "needs_background": "light"
     },
     "output_type": "display_data"
    },
    {
     "name": "stdout",
     "output_type": "stream",
     "text": [
      "Распределение значений aaweh\n"
     ]
    },
    {
     "data": {
      "image/png": "[encoded data removed]",
      "text/plain": [
       "<Figure size 432x288 with 1 Axes>"
      ]
     },
     "metadata": {
      "needs_background": "light"
     },
     "output_type": "display_data"
    },
    {
     "name": "stdout",
     "output_type": "stream",
     "text": [
      "Распределение значений ycmjp\n"
     ]
    },
    {
     "data": {
      "image/png": "[encoded data removed]",
      "text/plain": [
       "<Figure size 432x288 with 1 Axes>"
      ]
     },
     "metadata": {
      "needs_background": "light"
     },
     "output_type": "display_data"
    }
   ],
   "source": [
    "demonstrate_columns(clean_data)"
   ]
  },
  {
   "cell_type": "markdown",
   "metadata": {},
   "source": [
    "### Найти новые средние и дисперсии, сравнить со старыми."
   ]
  },
  {
   "cell_type": "code",
   "execution_count": 10,
   "metadata": {},
   "outputs": [
    {
     "name": "stdout",
     "output_type": "stream",
     "text": [
      "dgjwh\n",
      "\tсреднее:  \t10.6087388586702\t-> 13.756820894849987\n",
      "\tдисперсия:\t546.38707322008\t-> 32.07361640299005\n",
      "aaweh\n",
      "\tсреднее:  \t12.254383266433123\t-> 13.51848420964193\n",
      "\tдисперсия:\t261.3291982648515\t-> 35.80072671229143\n",
      "ycmjp\n",
      "\tсреднее:  \t11.999313056492742\t-> 14.962519424413511\n",
      "\tдисперсия:\t509.74810348992037\t-> 42.309068044009685\n"
     ]
    }
   ],
   "source": [
    "for colname in data.columns:\n",
    "    old_avg, old_var = get_avg_var(data[colname])\n",
    "    new_avg, new_var = get_avg_var(clean_data[colname])\n",
    "    print(colname)\n",
    "    print(f\"\\tсреднее:  \\t{old_avg}\\t-> {new_avg}\")\n",
    "    print(f\"\\tдисперсия:\\t{old_var}\\t-> {new_var}\")"
   ]
  },
  {
   "cell_type": "markdown",
   "metadata": {},
   "source": [
    "### Нормализовать данные по среднему и дисперсии."
   ]
  },
  {
   "cell_type": "code",
   "execution_count": 11,
   "metadata": {},
   "outputs": [],
   "source": [
    "norm_data = clean_data.copy()\n",
    "for colname in norm_data.columns:\n",
    "    col = norm_data[colname]\n",
    "    avg, var = get_avg_var(col)\n",
    "    sd = np.sqrt(var)\n",
    "    for i in range(len(col)):\n",
    "        col[i] = (col[i] - avg) / sd"
   ]
  },
  {
   "cell_type": "code",
   "execution_count": 16,
   "metadata": {},
   "outputs": [
    {
     "name": "stdout",
     "output_type": "stream",
     "text": [
      "Результат нормализации:\n",
      "столбец dgjwh:\t среднее: 0.0\t дисперсия: 1.0\n",
      "столбец aaweh:\t среднее: -0.0\t дисперсия: 1.0\n",
      "столбец ycmjp:\t среднее: -0.0\t дисперсия: 1.0\n"
     ]
    }
   ],
   "source": [
    "print(\"Результат нормализации:\")\n",
    "show_avg_var(norm_data)"
   ]
  },
  {
   "cell_type": "code",
   "execution_count": 28,
   "metadata": {},
   "outputs": [
    {
     "name": "stdout",
     "output_type": "stream",
     "text": [
      "Распределение значений dgjwh\n"
     ]
    },
    {
     "data": {
      "image/png": "[encoded data removed]",
      "text/plain": [
       "<Figure size 432x288 with 1 Axes>"
      ]
     },
     "metadata": {
      "needs_background": "light"
     },
     "output_type": "display_data"
    },
    {
     "name": "stdout",
     "output_type": "stream",
     "text": [
      "Распределение значений aaweh\n"
     ]
    },
    {
     "data": {
      "image/png": "[encoded data removed]",
      "text/plain": [
       "<Figure size 432x288 with 1 Axes>"
      ]
     },
     "metadata": {
      "needs_background": "light"
     },
     "output_type": "display_data"
    },
    {
     "name": "stdout",
     "output_type": "stream",
     "text": [
      "Распределение значений ycmjp\n"
     ]
    },
    {
     "data": {
      "image/png": "[encoded data removed]",
      "text/plain": [
       "<Figure size 432x288 with 1 Axes>"
      ]
     },
     "metadata": {
      "needs_background": "light"
     },
     "output_type": "display_data"
    }
   ],
   "source": [
    "demonstrate_columns(norm_data)"
   ]
  },
  {
   "cell_type": "code",
   "execution_count": null,
   "metadata": {},
   "outputs": [],
   "source": []
  }
 ],
 "metadata": {
  "kernelspec": {
   "display_name": "Python 3",
   "language": "python",
   "name": "python3"
  },
  "language_info": {
   "codemirror_mode": {
    "name": "ipython",
    "version": 3
   },
   "file_extension": ".py",
   "mimetype": "text/x-python",
   "name": "python",
   "nbconvert_exporter": "python",
   "pygments_lexer": "ipython3",
   "version": "3.7.8"
  }
 },
 "nbformat": 4,
 "nbformat_minor": 4
}
