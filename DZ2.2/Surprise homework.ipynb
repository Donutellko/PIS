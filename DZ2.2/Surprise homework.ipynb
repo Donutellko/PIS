{
 "cells": [
  {
   "cell_type": "markdown",
   "metadata": {},
   "source": [
    "# Surprise homework"
   ]
  },
  {
   "cell_type": "code",
   "execution_count": 1,
   "metadata": {},
   "outputs": [],
   "source": [
    "var = 31"
   ]
  },
  {
   "cell_type": "code",
   "execution_count": 2,
   "metadata": {},
   "outputs": [],
   "source": [
    "import io \n",
    "import numpy as np\n",
    "from collections import defaultdict\n",
    "from surprise import Dataset \n",
    "from surprise import accuracy \n",
    "from surprise import get_dataset_dir\n",
    "from surprise.model_selection import cross_validate \n",
    "from surprise.model_selection import train_test_split"
   ]
  },
  {
   "cell_type": "markdown",
   "metadata": {},
   "source": [
    "### Functions"
   ]
  },
  {
   "cell_type": "code",
   "execution_count": 3,
   "metadata": {},
   "outputs": [],
   "source": [
    "# используйте полезные функции из FAQ\n",
    "\n",
    "from surprise import SVD\n",
    "from surprise.model_selection import KFold\n",
    "\n",
    "\n",
    "def precision_recall_at_k(predictions, k, threshold):\n",
    "    \"\"\"Return precision and recall at k metrics for each user\"\"\"\n",
    "\n",
    "    # First map the predictions to each user.\n",
    "    user_est_true = defaultdict(list)\n",
    "    for uid, _, true_r, est, _ in predictions:\n",
    "        user_est_true[uid].append((est, true_r))\n",
    "\n",
    "    precisions = dict()\n",
    "    recalls = dict()\n",
    "    for uid, user_ratings in user_est_true.items():\n",
    "\n",
    "        # Sort user ratings by estimated value\n",
    "        user_ratings.sort(key=lambda x: x[0], reverse=True)\n",
    "\n",
    "        # Number of relevant items\n",
    "        n_rel = sum((true_r >= threshold) for (_, true_r) in user_ratings)\n",
    "\n",
    "        # Number of recommended items in top k\n",
    "        n_rec_k = sum((est >= threshold) for (est, _) in user_ratings[:k])\n",
    "\n",
    "        # Number of relevant and recommended items in top k\n",
    "        n_rel_and_rec_k = sum(((true_r >= threshold) and (est >= threshold))\n",
    "                              for (est, true_r) in user_ratings[:k])\n",
    "\n",
    "        # Precision@K: Proportion of recommended items that are relevant\n",
    "        # When n_rec_k is 0, Precision is undefined. We here set it to 0.\n",
    "\n",
    "        precisions[uid] = n_rel_and_rec_k / n_rec_k if n_rec_k != 0 else 0\n",
    "\n",
    "        # Recall@K: Proportion of relevant items that are recommended\n",
    "        # When n_rel is 0, Recall is undefined. We here set it to 0.\n",
    "\n",
    "        recalls[uid] = n_rel_and_rec_k / n_rel if n_rel != 0 else 0\n",
    "\n",
    "    return precisions, recalls"
   ]
  },
  {
   "cell_type": "code",
   "execution_count": 4,
   "metadata": {},
   "outputs": [],
   "source": [
    "def get_top_n(predictions, n):\n",
    "    \"\"\"Return the top-N recommendation for each user from a set of predictions.\n",
    "\n",
    "    Args:\n",
    "        predictions(list of Prediction objects): The list of predictions, as\n",
    "            returned by the test method of an algorithm.\n",
    "        n(int): The number of recommendation to output for each user. Default\n",
    "            is 10.\n",
    "\n",
    "    Returns:\n",
    "    A dict where keys are user (raw) ids and values are lists of tuples:\n",
    "        [(raw item id, rating estimation), ...] of size n.\n",
    "    \"\"\"\n",
    "\n",
    "    # First map the predictions to each user.\n",
    "    top_n = defaultdict(list)\n",
    "    for uid, iid, true_r, est, _ in predictions:\n",
    "        top_n[uid].append((iid, est))\n",
    "\n",
    "    # Then sort the predictions for each user and retrieve the k highest ones.\n",
    "    for uid, user_ratings in top_n.items():\n",
    "        user_ratings.sort(key=lambda x: x[1], reverse=True)\n",
    "        top_n[uid] = user_ratings[:n]\n",
    "\n",
    "    return top_n"
   ]
  },
  {
   "cell_type": "code",
   "execution_count": 5,
   "metadata": {},
   "outputs": [],
   "source": [
    "def read_item_info():\n",
    "    \"\"\"Read the u.item file from MovieLens 100-k dataset and return \n",
    "    mapping to convert raw ids into movie info.\n",
    "    \"\"\"\n",
    "\n",
    "    file_name = get_dataset_dir() + '/ml-100k/ml-100k/u.item'\n",
    "    rid_to_info = {}\n",
    "\n",
    "    with io.open(file_name, 'r', encoding='ISO-8859-1') as f:\n",
    "        for line in f:\n",
    "            line = line.split('|')\n",
    "            rid_to_info[line[0]] = {'name' : line[1], 'date' : line[2]}\n",
    "\n",
    "    return rid_to_info"
   ]
  },
  {
   "cell_type": "markdown",
   "metadata": {},
   "source": [
    "### Load data"
   ]
  },
  {
   "cell_type": "code",
   "execution_count": 6,
   "metadata": {},
   "outputs": [
    {
     "name": "stdout",
     "output_type": "stream",
     "text": [
      "trainset: <surprise.trainset.Trainset object at 0x119ed9710>\n",
      "testset len:  25000\n"
     ]
    }
   ],
   "source": [
    "data = Dataset.load_builtin('ml-100k')\n",
    "trainset, testset = train_test_split(data, test_size=.25)\n",
    "\n",
    "print('trainset:', trainset)\n",
    "print('testset len: ', len(testset))"
   ]
  },
  {
   "cell_type": "code",
   "execution_count": 7,
   "metadata": {},
   "outputs": [
    {
     "data": {
      "text/plain": [
       "{'name': 'Fargo (1996)', 'date': '14-Feb-1997'}"
      ]
     },
     "execution_count": 7,
     "metadata": {},
     "output_type": "execute_result"
    }
   ],
   "source": [
    "rid_to_info = read_item_info()\n",
    "rid_to_info['100'] # example"
   ]
  },
  {
   "cell_type": "markdown",
   "metadata": {},
   "source": [
    "### Define algorithms"
   ]
  },
  {
   "cell_type": "code",
   "execution_count": 8,
   "metadata": {},
   "outputs": [],
   "source": [
    "# внимательно изучите документацию по метрикам и алгоритмам\n",
    "from surprise import SVD\n",
    "\n",
    "from surprise import NormalPredictor\n",
    "from surprise import KNNWithMeans\n",
    "from surprise import KNNBaseline"
   ]
  },
  {
   "cell_type": "markdown",
   "metadata": {},
   "source": [
    "### Select algorithm"
   ]
  },
  {
   "cell_type": "markdown",
   "metadata": {},
   "source": [
    "1. Оценить по метрике RMSE с помощью функции cross_validate следующие алгоритмы:"
   ]
  },
  {
   "cell_type": "code",
   "execution_count": 9,
   "metadata": {},
   "outputs": [],
   "source": [
    "results = []"
   ]
  },
  {
   "cell_type": "code",
   "execution_count": 10,
   "metadata": {},
   "outputs": [],
   "source": [
    "def test_algo(algo, metrica = None):\n",
    "    print(\"Проверяем\", type(algo).__name__ + ('по метрике ' + metrica if metrica != None else ''), '\\n')\n",
    "    \n",
    "    algo.fit(trainset)\n",
    "    \n",
    "    predictions = algo.test(testset)\n",
    "    \n",
    "    cross_validate(algo, \n",
    "                   data, \n",
    "                   measures=['RMSE'], \n",
    "                   cv=5, \n",
    "                   verbose=True)\n",
    "    \n",
    "    return [accuracy.rmse(predictions), algo, metrica]\n",
    "    \n",
    "def test_knn(metrica):\n",
    "    sim_options = {'name': metrica }\n",
    "    algo = KNNWithMeans(k=30,sim_options=sim_options)\n",
    "    return test_algo(algo, metrica)"
   ]
  },
  {
   "cell_type": "code",
   "execution_count": 11,
   "metadata": {
    "scrolled": true
   },
   "outputs": [
    {
     "name": "stdout",
     "output_type": "stream",
     "text": [
      "Проверяем NormalPredictor \n",
      "\n",
      "Evaluating RMSE of algorithm NormalPredictor on 5 split(s).\n",
      "\n",
      "                  Fold 1  Fold 2  Fold 3  Fold 4  Fold 5  Mean    Std     \n",
      "RMSE (testset)    1.5147  1.5202  1.5242  1.5269  1.5135  1.5199  0.0052  \n",
      "Fit time          0.12    0.14    0.13    0.15    0.14    0.14    0.01    \n",
      "Test time         0.19    0.17    0.12    0.18    0.18    0.17    0.03    \n",
      "RMSE: 1.5159\n"
     ]
    }
   ],
   "source": [
    "# прогнозирование случайного рейтинга на основе распределения всех рейтингов в наборе;\n",
    "results += [test_algo(NormalPredictor())]"
   ]
  },
  {
   "cell_type": "code",
   "execution_count": 12,
   "metadata": {},
   "outputs": [
    {
     "name": "stdout",
     "output_type": "stream",
     "text": [
      "Проверяем KNNWithMeansпо метрике cosine \n",
      "\n",
      "Computing the cosine similarity matrix...\n",
      "Done computing similarity matrix.\n",
      "Computing the cosine similarity matrix...\n",
      "Done computing similarity matrix.\n",
      "Computing the cosine similarity matrix...\n",
      "Done computing similarity matrix.\n",
      "Computing the cosine similarity matrix...\n",
      "Done computing similarity matrix.\n",
      "Computing the cosine similarity matrix...\n",
      "Done computing similarity matrix.\n",
      "Computing the cosine similarity matrix...\n",
      "Done computing similarity matrix.\n",
      "Evaluating RMSE of algorithm KNNWithMeans on 5 split(s).\n",
      "\n",
      "                  Fold 1  Fold 2  Fold 3  Fold 4  Fold 5  Mean    Std     \n",
      "RMSE (testset)    0.9492  0.9584  0.9639  0.9582  0.9548  0.9569  0.0048  \n",
      "Fit time          0.78    0.78    0.82    0.79    0.80    0.79    0.01    \n",
      "Test time         2.95    2.91    2.94    2.92    2.99    2.94    0.03    \n",
      "RMSE: 0.9590\n"
     ]
    }
   ],
   "source": [
    "# user-based коллаборативную фильтрацию, метод kNN, k = 30, метрика косинуса;\n",
    "results += [test_knn('cosine')]"
   ]
  },
  {
   "cell_type": "code",
   "execution_count": 13,
   "metadata": {},
   "outputs": [
    {
     "name": "stdout",
     "output_type": "stream",
     "text": [
      "Проверяем KNNWithMeansпо метрике msd \n",
      "\n",
      "Computing the msd similarity matrix...\n",
      "Done computing similarity matrix.\n",
      "Computing the msd similarity matrix...\n",
      "Done computing similarity matrix.\n",
      "Computing the msd similarity matrix...\n",
      "Done computing similarity matrix.\n",
      "Computing the msd similarity matrix...\n",
      "Done computing similarity matrix.\n",
      "Computing the msd similarity matrix...\n",
      "Done computing similarity matrix.\n",
      "Computing the msd similarity matrix...\n",
      "Done computing similarity matrix.\n",
      "Evaluating RMSE of algorithm KNNWithMeans on 5 split(s).\n",
      "\n",
      "                  Fold 1  Fold 2  Fold 3  Fold 4  Fold 5  Mean    Std     \n",
      "RMSE (testset)    0.9464  0.9526  0.9573  0.9525  0.9529  0.9523  0.0035  \n",
      "Fit time          0.27    0.33    0.37    0.36    0.30    0.32    0.04    \n",
      "Test time         2.94    2.94    2.86    2.92    2.94    2.92    0.03    \n",
      "RMSE: 0.9532\n"
     ]
    }
   ],
   "source": [
    "# user-based коллаборативную фильтрацию, метод kNN, k = 30, метрика Mean Squared Difference ;\n",
    "results += [test_knn('msd')]"
   ]
  },
  {
   "cell_type": "code",
   "execution_count": 14,
   "metadata": {},
   "outputs": [
    {
     "name": "stdout",
     "output_type": "stream",
     "text": [
      "Проверяем KNNWithMeansпо метрике pearson \n",
      "\n",
      "Computing the pearson similarity matrix...\n",
      "Done computing similarity matrix.\n",
      "Computing the pearson similarity matrix...\n",
      "Done computing similarity matrix.\n",
      "Computing the pearson similarity matrix...\n",
      "Done computing similarity matrix.\n",
      "Computing the pearson similarity matrix...\n",
      "Done computing similarity matrix.\n",
      "Computing the pearson similarity matrix...\n",
      "Done computing similarity matrix.\n",
      "Computing the pearson similarity matrix...\n",
      "Done computing similarity matrix.\n",
      "Evaluating RMSE of algorithm KNNWithMeans on 5 split(s).\n",
      "\n",
      "                  Fold 1  Fold 2  Fold 3  Fold 4  Fold 5  Mean    Std     \n",
      "RMSE (testset)    0.9610  0.9430  0.9468  0.9577  0.9528  0.9523  0.0067  \n",
      "Fit time          1.16    1.14    1.13    1.13    1.11    1.13    0.02    \n",
      "Test time         3.04    3.01    2.94    2.85    2.87    2.94    0.07    \n",
      "RMSE: 0.9543\n"
     ]
    }
   ],
   "source": [
    "# user-based коллаборативную фильтрацию, метод kNN, k = 30, метрика корреляция Пирсона;\n",
    "results += [test_knn('pearson')]"
   ]
  },
  {
   "cell_type": "code",
   "execution_count": 15,
   "metadata": {
    "scrolled": true
   },
   "outputs": [
    {
     "name": "stdout",
     "output_type": "stream",
     "text": [
      "Проверяем SVD \n",
      "\n",
      "Evaluating RMSE of algorithm SVD on 5 split(s).\n",
      "\n",
      "                  Fold 1  Fold 2  Fold 3  Fold 4  Fold 5  Mean    Std     \n",
      "RMSE (testset)    0.9380  0.9380  0.9331  0.9442  0.9346  0.9376  0.0038  \n",
      "Fit time          3.92    3.79    3.69    3.93    3.74    3.82    0.10    \n",
      "Test time         0.13    0.20    0.20    0.12    0.20    0.17    0.04    \n",
      "RMSE: 0.9368\n"
     ]
    }
   ],
   "source": [
    "# SVD алгоритм.\n",
    "results += [test_algo(SVD())]"
   ]
  },
  {
   "cell_type": "code",
   "execution_count": 16,
   "metadata": {},
   "outputs": [
    {
     "name": "stdout",
     "output_type": "stream",
     "text": [
      "0.937 = rmse для алгоритма SVD с метрикой None\n",
      "0.953 = rmse для алгоритма KNNWithMeans с метрикой msd\n",
      "0.954 = rmse для алгоритма KNNWithMeans с метрикой pearson\n",
      "0.959 = rmse для алгоритма KNNWithMeans с метрикой cosine\n",
      "1.516 = rmse для алгоритма NormalPredictor с метрикой None\n",
      "\n",
      "Лучший алгоритм по rmse: SVD с метрикой None\n"
     ]
    }
   ],
   "source": [
    "results.sort(key = lambda x: x[0])\n",
    "for rmse, algo, metrica in results:\n",
    "    print(round(rmse, 3), \"= rmse для алгоритма\", type(algo).__name__, \"с метрикой\", metrica) \n",
    "    \n",
    "print()\n",
    "best_rmse, best_algo, best_metrica = results[0]\n",
    "print(\"Лучший алгоритм по rmse:\", type(best_algo).__name__, \"с метрикой\", best_metrica)"
   ]
  },
  {
   "cell_type": "markdown",
   "metadata": {},
   "source": [
    "### Calculate precision@k and recall@k"
   ]
  },
  {
   "cell_type": "markdown",
   "metadata": {},
   "source": [
    "2. Для лучшего алгоритма по метрике RMSE рассчитать метрики precision@k and recall@k для k=5 и порога отсечения 3.52, усредненные по всем пользователям."
   ]
  },
  {
   "cell_type": "code",
   "execution_count": 17,
   "metadata": {},
   "outputs": [],
   "source": [
    "k = 5\n",
    "threshold = 3.52"
   ]
  },
  {
   "cell_type": "code",
   "execution_count": 18,
   "metadata": {},
   "outputs": [
    {
     "name": "stdout",
     "output_type": "stream",
     "text": [
      "precision@k: 0.864\n",
      "recall@k:    0.433\n"
     ]
    }
   ],
   "source": [
    "predictions = best_algo.test(testset)\n",
    "precisions, recalls = precision_recall_at_k(predictions, k, threshold)\n",
    "\n",
    "mean_precision = np.mean(list(precisions.values()))\n",
    "mean_recall = np.mean(list(recalls.values()))\n",
    "\n",
    "print(\"precision@k:\", round(mean_precision, 3))\n",
    "print(\"recall@k:   \", round(mean_recall, 3))"
   ]
  },
  {
   "cell_type": "markdown",
   "metadata": {},
   "source": [
    "### Predict"
   ]
  },
  {
   "cell_type": "markdown",
   "metadata": {},
   "source": [
    "3. Для заданного пользователя (номер в списке) c помощью лучшего алгоритма по метрике RMSE вывести топ-5 рекомендаций (те фильмы, для которых у пользователя нет оценки) с названиями, датой выхода и рейтингом."
   ]
  },
  {
   "cell_type": "code",
   "execution_count": 19,
   "metadata": {},
   "outputs": [],
   "source": [
    "cnt = 5"
   ]
  },
  {
   "cell_type": "code",
   "execution_count": 21,
   "metadata": {},
   "outputs": [],
   "source": [
    "# обратите внимание на функцию build_anti_testset\n",
    "# Predict ratings for all pairs (u, i) that are NOT in the training set.\n",
    "\n",
    "predictions = best_algo.test(trainset.build_anti_testset())"
   ]
  },
  {
   "cell_type": "code",
   "execution_count": 22,
   "metadata": {
    "scrolled": false
   },
   "outputs": [],
   "source": [
    "top_n = get_top_n(predictions, n=cnt)"
   ]
  },
  {
   "cell_type": "code",
   "execution_count": 23,
   "metadata": {
    "scrolled": true
   },
   "outputs": [
    {
     "name": "stdout",
     "output_type": "stream",
     "text": [
      "var 31\n"
     ]
    },
    {
     "data": {
      "text/plain": [
       "[('89', 4.901065426017591),\n",
       " ('127', 4.811790749214374),\n",
       " ('603', 4.784981009027717),\n",
       " ('169', 4.733130883170019),\n",
       " ('318', 4.726462758069867)]"
      ]
     },
     "execution_count": 23,
     "metadata": {},
     "output_type": "execute_result"
    }
   ],
   "source": [
    "print(\"var\", var)\n",
    "top_n[str(var)]"
   ]
  },
  {
   "cell_type": "code",
   "execution_count": 26,
   "metadata": {
    "scrolled": false
   },
   "outputs": [],
   "source": [
    "def get_info(item):\n",
    "    rid, rate = item\n",
    "    info = rid_to_info[rid]\n",
    "    return [rid, info['name'], info['date'], rate]\n",
    "    \n",
    "result = list(map(get_info, top_n[str(var)]))"
   ]
  },
  {
   "cell_type": "code",
   "execution_count": 27,
   "metadata": {},
   "outputs": [
    {
     "name": "stdout",
     "output_type": "stream",
     "text": [
      "User 31\n",
      "    89    Blade Runner (1982)        01-Jan-1982 4.901\n",
      "    127   Godfather, The (1972)      01-Jan-1972 4.812\n",
      "    603   Rear Window (1954)         01-Jan-1954 4.785\n",
      "    169   Wrong Trousers, The (1993) 01-Jan-1993 4.733\n",
      "    318   Schindler's List (1993)    01-Jan-1993 4.726\n"
     ]
    }
   ],
   "source": [
    "print(\"User\", var)\n",
    "\n",
    "max_name_length = len(max(result, key=lambda x: len(x[1]))[1])\n",
    "\n",
    "for rid, name, date, rate in result:\n",
    "    print('   ', rid.ljust(5), name.ljust(max_name_length), date, round(rate, 3))"
   ]
  },
  {
   "cell_type": "code",
   "execution_count": null,
   "metadata": {},
   "outputs": [],
   "source": []
  },
  {
   "cell_type": "code",
   "execution_count": null,
   "metadata": {},
   "outputs": [],
   "source": []
  }
 ],
 "metadata": {
  "kernelspec": {
   "display_name": "Python 3",
   "language": "python",
   "name": "python3"
  },
  "language_info": {
   "codemirror_mode": {
    "name": "ipython",
    "version": 3
   },
   "file_extension": ".py",
   "mimetype": "text/x-python",
   "name": "python",
   "nbconvert_exporter": "python",
   "pygments_lexer": "ipython3",
   "version": "3.7.9"
  }
 },
 "nbformat": 4,
 "nbformat_minor": 2
}
