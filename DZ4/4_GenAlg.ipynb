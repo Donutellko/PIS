{
 "cells": [
  {
   "cell_type": "markdown",
   "metadata": {},
   "source": [
    "# 4. Генетические алгоритмы"
   ]
  },
  {
   "cell_type": "markdown",
   "metadata": {},
   "source": [
    "## 4.1 Использование генетического алгоритма\n",
    "\n",
    "С помощью любой существующей библиотеки Python, реализующей генетические алгоритмы, получить решение задачи о рюкзаке для своего набора \n",
    "данных (определяется номером в списке).\n",
    "\n",
    "Шергалис Донат, 3530903/70301 Вариант 31."
   ]
  },
  {
   "cell_type": "code",
   "execution_count": 1,
   "metadata": {},
   "outputs": [],
   "source": [
    "var = 31"
   ]
  },
  {
   "cell_type": "code",
   "execution_count": 2,
   "metadata": {},
   "outputs": [],
   "source": [
    "import numpy as np\n",
    "import pandas as pd\n",
    "import itertools\n",
    "import random\n",
    "from operator import itemgetter \n",
    "import json\n",
    "from geneticalgorithm import geneticalgorithm as ga"
   ]
  },
  {
   "cell_type": "code",
   "execution_count": 3,
   "metadata": {
    "scrolled": false
   },
   "outputs": [
    {
     "name": "stdout",
     "output_type": "stream",
     "text": [
      "weights = 30\n",
      "W = 13000\n",
      "V = 12\n",
      "data: \n"
     ]
    },
    {
     "data": {
      "text/html": [
       "<div>\n",
       "<style scoped>\n",
       "    .dataframe tbody tr th:only-of-type {\n",
       "        vertical-align: middle;\n",
       "    }\n",
       "\n",
       "    .dataframe tbody tr th {\n",
       "        vertical-align: top;\n",
       "    }\n",
       "\n",
       "    .dataframe thead th {\n",
       "        text-align: right;\n",
       "    }\n",
       "</style>\n",
       "<table border=\"1\" class=\"dataframe\">\n",
       "  <thead>\n",
       "    <tr style=\"text-align: right;\">\n",
       "      <th></th>\n",
       "      <th>w</th>\n",
       "      <th>v</th>\n",
       "      <th>c</th>\n",
       "    </tr>\n",
       "  </thead>\n",
       "  <tbody>\n",
       "    <tr>\n",
       "      <th>0</th>\n",
       "      <td>897</td>\n",
       "      <td>0.6</td>\n",
       "      <td>167</td>\n",
       "    </tr>\n",
       "    <tr>\n",
       "      <th>1</th>\n",
       "      <td>138</td>\n",
       "      <td>0.6</td>\n",
       "      <td>293</td>\n",
       "    </tr>\n",
       "    <tr>\n",
       "      <th>2</th>\n",
       "      <td>1569</td>\n",
       "      <td>0.8</td>\n",
       "      <td>359</td>\n",
       "    </tr>\n",
       "    <tr>\n",
       "      <th>3</th>\n",
       "      <td>672</td>\n",
       "      <td>0.7</td>\n",
       "      <td>298</td>\n",
       "    </tr>\n",
       "    <tr>\n",
       "      <th>4</th>\n",
       "      <td>1514</td>\n",
       "      <td>0.4</td>\n",
       "      <td>265</td>\n",
       "    </tr>\n",
       "  </tbody>\n",
       "</table>\n",
       "</div>"
      ],
      "text/plain": [
       "      w    v    c\n",
       "0   897  0.6  167\n",
       "1   138  0.6  293\n",
       "2  1569  0.8  359\n",
       "3   672  0.7  298\n",
       "4  1514  0.4  265"
      ]
     },
     "execution_count": 3,
     "metadata": {},
     "output_type": "execute_result"
    }
   ],
   "source": [
    "data_file = 'data/' + str(var) + '.txt'\n",
    "\n",
    "with open(data_file) as f:\n",
    "    W, V = [int(x) for x in next(f).split()]\n",
    "\n",
    "data = pd.read_csv(data_file, \n",
    "                   skiprows=1,  \n",
    "                   names=['w', 'v', 'c'], \n",
    "                   delim_whitespace=True)\n",
    "weights = len(data.index)\n",
    "\n",
    "print(f'weights = {weights}') # количество весов\n",
    "print(f'W = {W}') # грузоподъёмность\n",
    "print(f'V = {V}') # вместимость\n",
    "print('data: ')   # w = вес, v = объём, c = ценность\n",
    "data.head()"
   ]
  },
  {
   "cell_type": "code",
   "execution_count": 4,
   "metadata": {},
   "outputs": [],
   "source": [
    "def w(i):\n",
    "    return data['w'][i]\n",
    "\n",
    "def v(i):\n",
    "    return data['v'][i]\n",
    "\n",
    "def c(i):\n",
    "    return data['c'][i]"
   ]
  },
  {
   "cell_type": "code",
   "execution_count": 5,
   "metadata": {},
   "outputs": [],
   "source": [
    "def sum_col(solution, col):\n",
    "    return round(sum(data[col][i] if s else 0 for i, s in enumerate(solution)), 5)\n",
    "\n",
    "def sums(solution):\n",
    "    return [sum_col(solution, col) for col in ['w', 'v', 'c']]"
   ]
  },
  {
   "cell_type": "code",
   "execution_count": 6,
   "metadata": {},
   "outputs": [],
   "source": [
    "def fitness(solution):\n",
    "    w, v, c = sums(solution)\n",
    "    return -c if w <= W and v <= V else 0"
   ]
  },
  {
   "cell_type": "code",
   "execution_count": 7,
   "metadata": {
    "scrolled": true
   },
   "outputs": [
    {
     "data": {
      "text/plain": [
       "{'max_num_iteration': None,\n",
       " 'population_size': 100,\n",
       " 'mutation_probability': 0.1,\n",
       " 'elit_ratio': 0.01,\n",
       " 'crossover_probability': 0.5,\n",
       " 'parents_portion': 0.3,\n",
       " 'crossover_type': 'uniform',\n",
       " 'max_iteration_without_improv': None}"
      ]
     },
     "execution_count": 7,
     "metadata": {},
     "output_type": "execute_result"
    }
   ],
   "source": [
    "model=ga(function=fitness,\n",
    "         dimension=weights,\n",
    "         variable_type='bool')\n",
    "model.param"
   ]
  },
  {
   "cell_type": "code",
   "execution_count": 8,
   "metadata": {
    "scrolled": true
   },
   "outputs": [
    {
     "name": "stdout",
     "output_type": "stream",
     "text": [
      " The best solution found:                                                                           \n",
      " [0. 1. 1. 1. 0. 0. 1. 1. 1. 0. 0. 1. 0. 0. 0. 1. 1. 1. 1. 1. 1. 1. 0. 0.\n",
      " 0. 0. 0. 0. 0. 1.]\n",
      "\n",
      " Objective function:\n",
      " -4640.0\n"
     ]
    },
    {
     "data": {
      "image/png": "[encoded data removed]",
      "text/plain": [
       "<Figure size 432x288 with 1 Axes>"
      ]
     },
     "metadata": {
      "needs_background": "light"
     },
     "output_type": "display_data"
    }
   ],
   "source": [
    "model.run()"
   ]
  },
  {
   "cell_type": "code",
   "execution_count": 9,
   "metadata": {},
   "outputs": [],
   "source": [
    "solution = model.output_dict['variable']\n",
    "result = -model.output_dict['function']"
   ]
  },
  {
   "cell_type": "code",
   "execution_count": 10,
   "metadata": {},
   "outputs": [
    {
     "name": "stdout",
     "output_type": "stream",
     "text": [
      "W = 12670, V = 11.6, C = 4640\n"
     ]
    },
    {
     "data": {
      "text/html": [
       "<div>\n",
       "<style scoped>\n",
       "    .dataframe tbody tr th:only-of-type {\n",
       "        vertical-align: middle;\n",
       "    }\n",
       "\n",
       "    .dataframe tbody tr th {\n",
       "        vertical-align: top;\n",
       "    }\n",
       "\n",
       "    .dataframe thead th {\n",
       "        text-align: right;\n",
       "    }\n",
       "</style>\n",
       "<table border=\"1\" class=\"dataframe\">\n",
       "  <thead>\n",
       "    <tr style=\"text-align: right;\">\n",
       "      <th></th>\n",
       "      <th>w</th>\n",
       "      <th>v</th>\n",
       "      <th>c</th>\n",
       "    </tr>\n",
       "  </thead>\n",
       "  <tbody>\n",
       "    <tr>\n",
       "      <th>1</th>\n",
       "      <td>138.0</td>\n",
       "      <td>0.6</td>\n",
       "      <td>293.0</td>\n",
       "    </tr>\n",
       "    <tr>\n",
       "      <th>2</th>\n",
       "      <td>1569.0</td>\n",
       "      <td>0.8</td>\n",
       "      <td>359.0</td>\n",
       "    </tr>\n",
       "    <tr>\n",
       "      <th>3</th>\n",
       "      <td>672.0</td>\n",
       "      <td>0.7</td>\n",
       "      <td>298.0</td>\n",
       "    </tr>\n",
       "    <tr>\n",
       "      <th>6</th>\n",
       "      <td>1215.0</td>\n",
       "      <td>0.7</td>\n",
       "      <td>278.0</td>\n",
       "    </tr>\n",
       "    <tr>\n",
       "      <th>7</th>\n",
       "      <td>1292.0</td>\n",
       "      <td>0.6</td>\n",
       "      <td>360.0</td>\n",
       "    </tr>\n",
       "    <tr>\n",
       "      <th>8</th>\n",
       "      <td>996.0</td>\n",
       "      <td>0.6</td>\n",
       "      <td>320.0</td>\n",
       "    </tr>\n",
       "    <tr>\n",
       "      <th>11</th>\n",
       "      <td>716.0</td>\n",
       "      <td>0.7</td>\n",
       "      <td>214.0</td>\n",
       "    </tr>\n",
       "    <tr>\n",
       "      <th>15</th>\n",
       "      <td>1534.0</td>\n",
       "      <td>0.9</td>\n",
       "      <td>377.0</td>\n",
       "    </tr>\n",
       "    <tr>\n",
       "      <th>16</th>\n",
       "      <td>1066.0</td>\n",
       "      <td>0.6</td>\n",
       "      <td>351.0</td>\n",
       "    </tr>\n",
       "    <tr>\n",
       "      <th>17</th>\n",
       "      <td>714.0</td>\n",
       "      <td>1.1</td>\n",
       "      <td>301.0</td>\n",
       "    </tr>\n",
       "    <tr>\n",
       "      <th>18</th>\n",
       "      <td>278.0</td>\n",
       "      <td>1.0</td>\n",
       "      <td>386.0</td>\n",
       "    </tr>\n",
       "    <tr>\n",
       "      <th>19</th>\n",
       "      <td>791.0</td>\n",
       "      <td>1.2</td>\n",
       "      <td>215.0</td>\n",
       "    </tr>\n",
       "    <tr>\n",
       "      <th>20</th>\n",
       "      <td>255.0</td>\n",
       "      <td>1.0</td>\n",
       "      <td>324.0</td>\n",
       "    </tr>\n",
       "    <tr>\n",
       "      <th>21</th>\n",
       "      <td>968.0</td>\n",
       "      <td>0.5</td>\n",
       "      <td>368.0</td>\n",
       "    </tr>\n",
       "    <tr>\n",
       "      <th>29</th>\n",
       "      <td>466.0</td>\n",
       "      <td>0.6</td>\n",
       "      <td>196.0</td>\n",
       "    </tr>\n",
       "  </tbody>\n",
       "</table>\n",
       "</div>"
      ],
      "text/plain": [
       "         w    v      c\n",
       "1    138.0  0.6  293.0\n",
       "2   1569.0  0.8  359.0\n",
       "3    672.0  0.7  298.0\n",
       "6   1215.0  0.7  278.0\n",
       "7   1292.0  0.6  360.0\n",
       "8    996.0  0.6  320.0\n",
       "11   716.0  0.7  214.0\n",
       "15  1534.0  0.9  377.0\n",
       "16  1066.0  0.6  351.0\n",
       "17   714.0  1.1  301.0\n",
       "18   278.0  1.0  386.0\n",
       "19   791.0  1.2  215.0\n",
       "20   255.0  1.0  324.0\n",
       "21   968.0  0.5  368.0\n",
       "29   466.0  0.6  196.0"
      ]
     },
     "execution_count": 10,
     "metadata": {},
     "output_type": "execute_result"
    }
   ],
   "source": [
    "totalW, totalV, totalC = sums(solution)\n",
    "print(f'W = {totalW}, V = {totalV}, C = {totalC}')\n",
    "\n",
    "indexes = [i for i, s in enumerate(solution) if s]\n",
    "values = [list(data.T[i]) for i, s in enumerate(solution) if s]\n",
    "\n",
    "pd.DataFrame(values, \n",
    "             columns=['w', 'v', 'c'], \n",
    "             index=indexes)"
   ]
  },
  {
   "cell_type": "code",
   "execution_count": null,
   "metadata": {},
   "outputs": [],
   "source": []
  },
  {
   "cell_type": "code",
   "execution_count": null,
   "metadata": {},
   "outputs": [],
   "source": []
  },
  {
   "cell_type": "markdown",
   "metadata": {},
   "source": [
    "## 4.2 Реализация генетического алгоритма\n",
    "Реализовать генетический алгоритм решения задачи о рюкзаке, используя свой набор генетических операторов (определяется номером в списке и другими параметрами), и получить результаты на своем наборе данных (определяется номером в списке)."
   ]
  },
  {
   "cell_type": "markdown",
   "metadata": {},
   "source": [
    "0. Кодирование – выбор «генетического кода»  \n",
    "  Особь – битовая последовательность размера n (кол-во грузов)  "
   ]
  },
  {
   "cell_type": "markdown",
   "metadata": {},
   "source": [
    "1. Начальная популяция – кол-во особей всегда = 200:  \n",
    "  1.1 случайная генерация  \n",
    "  1.2 **жадный выбор, начиная со случайного груза**  "
   ]
  },
  {
   "cell_type": "code",
   "execution_count": null,
   "metadata": {},
   "outputs": [],
   "source": []
  },
  {
   "cell_type": "code",
   "execution_count": 11,
   "metadata": {},
   "outputs": [],
   "source": [
    "population_size = 200\n",
    "\n",
    "def fits(solution):\n",
    "    sumW = sum([w(i) if population[0][i] else 0 for i in range(0, weights - 1)])\n",
    "    sumV = sum([v(i) if population[0][i] else 0 for i in range(0, weights - 1)])\n",
    "    sumC = sum([c(i) if population[0][i] else 0 for i in range(0, weights - 1)])\n",
    "    return sumC if sumW <= W and sumV <= V else 0\n",
    "\n",
    "def random_solution():\n",
    "    start = random.randint(0, weights - 1)\n",
    "    end = start\n",
    "    \n",
    "    sumW = w(start)\n",
    "    sumV = v(start)\n",
    "    while end + 1 < weights \\\n",
    "            and sumW + w(end + 1) <= W \\\n",
    "            and sumV + v(end + 1) <= V:\n",
    "        end += 1\n",
    "        sumW = round(sumW + w(end), 5)\n",
    "        sumV = round(sumV + v(end), 5)\n",
    "    \n",
    "    return [True if start <= i and i <= end else False for i in range(0, weights - 1)]"
   ]
  },
  {
   "cell_type": "code",
   "execution_count": 12,
   "metadata": {},
   "outputs": [
    {
     "name": "stdout",
     "output_type": "stream",
     "text": [
      "[              ############   ]\n",
      "[ ###########                 ]\n",
      "[     ##########              ]\n",
      "[                            #]\n",
      "[                       ######]\n",
      "[   ##########                ]\n",
      "[        ###########          ]\n",
      "[                          ###]\n",
      "[         ############        ]\n",
      "[           #############     ]\n"
     ]
    }
   ],
   "source": [
    "population = [random_solution() for i in range(0, population_size)]\n",
    "\n",
    "\n",
    "def to_str(solution):\n",
    "    return '[' + ''.join(['#' if i else ' ' for i in solution]) + ']'\n",
    "\n",
    "# demonstration\n",
    "for s in population[:10]:\n",
    "    print(to_str(s)) "
   ]
  },
  {
   "cell_type": "code",
   "execution_count": 13,
   "metadata": {},
   "outputs": [],
   "source": [
    "# validate a little bit\n",
    "for i in population:\n",
    "    assert fits(population) > 0"
   ]
  },
  {
   "cell_type": "markdown",
   "metadata": {},
   "source": [
    "\n",
    "2. Отбор особей для скрещивания:  \n",
    "  2.1 выбор каждой особи пропорционально приспособленности (рулетка)  \n",
    "  2.2 **выбрать только 20% самых приспособленных особей**  \n"
   ]
  },
  {
   "cell_type": "markdown",
   "metadata": {},
   "source": [
    "3. Скрещивание (кроссинговер) между выбранными особями. Каждая особь скрещивается 1 раз за 1 поколение, 1 пара дает 2 потомка:   \n",
    "  3.1 **многоточечный с 3мя точками**  \n",
    "  3.2 однородный (каждый бит от случайно выбранного родителя)  "
   ]
  },
  {
   "cell_type": "markdown",
   "metadata": {},
   "source": [
    "4. Мутация:  \n",
    "  4.1 **инвертирование всех битов у 1 особи**  \n",
    "  4.2 случайное изменение 3х битов у 5% особей  \n",
    "  4.3 добавление 1 случайной вещи 5% особей  "
   ]
  },
  {
   "cell_type": "markdown",
   "metadata": {},
   "source": [
    "5. Формирование новой популяции (кол-во особей - константа)\n",
    "  5.1 замена 20% худших особей из предыдущего поколения на лучших потомков  \n",
    "  5.2 «штраф» за «старость» - 10% функции приспособленности, выбор лучших  \n",
    "  5.3 **замена своих родителей**  "
   ]
  },
  {
   "cell_type": "markdown",
   "metadata": {},
   "source": [
    "6. Оценка результата  \n",
    "Наступила сходимость (функция приспособленности лучшей особи в популяциях отличается не более, чем на стоимость самой дешевой вещи) или прошло 500 поколений"
   ]
  },
  {
   "cell_type": "code",
   "execution_count": null,
   "metadata": {},
   "outputs": [],
   "source": []
  },
  {
   "cell_type": "code",
   "execution_count": null,
   "metadata": {},
   "outputs": [],
   "source": []
  },
  {
   "cell_type": "code",
   "execution_count": null,
   "metadata": {},
   "outputs": [],
   "source": []
  },
  {
   "cell_type": "code",
   "execution_count": null,
   "metadata": {},
   "outputs": [],
   "source": []
  },
  {
   "cell_type": "code",
   "execution_count": null,
   "metadata": {},
   "outputs": [],
   "source": []
  },
  {
   "cell_type": "code",
   "execution_count": null,
   "metadata": {},
   "outputs": [],
   "source": []
  },
  {
   "cell_type": "code",
   "execution_count": null,
   "metadata": {},
   "outputs": [],
   "source": []
  }
 ],
 "metadata": {
  "kernelspec": {
   "display_name": "Python 3",
   "language": "python",
   "name": "python3"
  },
  "language_info": {
   "codemirror_mode": {
    "name": "ipython",
    "version": 3
   },
   "file_extension": ".py",
   "mimetype": "text/x-python",
   "name": "python",
   "nbconvert_exporter": "python",
   "pygments_lexer": "ipython3",
   "version": "3.7.9"
  }
 },
 "nbformat": 4,
 "nbformat_minor": 4
}
