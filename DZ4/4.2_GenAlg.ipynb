{
 "cells": [
  {
   "cell_type": "markdown",
   "metadata": {},
   "source": [
    "# 4.2 Реализация генетического алгоритма\n",
    "Реализовать генетический алгоритм решения задачи о рюкзаке, используя свой набор генетических операторов (определяется номером в списке и другими параметрами), и получить результаты на своем наборе данных (определяется номером в списке).\n",
    "\n",
    "Шергалис Донат, 3530903/70301 Вариант 31."
   ]
  },
  {
   "cell_type": "code",
   "execution_count": 1,
   "metadata": {},
   "outputs": [],
   "source": [
    "var = 31\n",
    "population_size = 200"
   ]
  },
  {
   "cell_type": "code",
   "execution_count": 2,
   "metadata": {},
   "outputs": [],
   "source": [
    "import numpy as np\n",
    "import pandas as pd\n",
    "import matplotlib.pyplot as plt\n",
    "import itertools\n",
    "import random\n",
    "import json\n",
    "from operator import itemgetter \n",
    "from geneticalgorithm import geneticalgorithm as ga"
   ]
  },
  {
   "cell_type": "code",
   "execution_count": 3,
   "metadata": {},
   "outputs": [],
   "source": [
    "def read_file(var = var):\n",
    "    data_file = 'data/' + str(var) + '.txt'\n",
    "\n",
    "    with open(data_file) as f:\n",
    "        W, V = [int(x) for x in next(f).split()]\n",
    "\n",
    "    data = pd.read_csv(data_file, \n",
    "                       skiprows=1,  \n",
    "                       names=['w', 'v', 'c'], \n",
    "                       delim_whitespace=True)\n",
    "    return data, W, V"
   ]
  },
  {
   "cell_type": "code",
   "execution_count": 4,
   "metadata": {
    "scrolled": false
   },
   "outputs": [
    {
     "name": "stdout",
     "output_type": "stream",
     "text": [
      "weights = 30\n",
      "W = 13000\n",
      "V = 12\n",
      "data: \n"
     ]
    },
    {
     "data": {
      "text/html": [
       "<div>\n",
       "<style scoped>\n",
       "    .dataframe tbody tr th:only-of-type {\n",
       "        vertical-align: middle;\n",
       "    }\n",
       "\n",
       "    .dataframe tbody tr th {\n",
       "        vertical-align: top;\n",
       "    }\n",
       "\n",
       "    .dataframe thead th {\n",
       "        text-align: right;\n",
       "    }\n",
       "</style>\n",
       "<table border=\"1\" class=\"dataframe\">\n",
       "  <thead>\n",
       "    <tr style=\"text-align: right;\">\n",
       "      <th></th>\n",
       "      <th>w</th>\n",
       "      <th>v</th>\n",
       "      <th>c</th>\n",
       "    </tr>\n",
       "  </thead>\n",
       "  <tbody>\n",
       "    <tr>\n",
       "      <th>0</th>\n",
       "      <td>897</td>\n",
       "      <td>0.6</td>\n",
       "      <td>167</td>\n",
       "    </tr>\n",
       "    <tr>\n",
       "      <th>1</th>\n",
       "      <td>138</td>\n",
       "      <td>0.6</td>\n",
       "      <td>293</td>\n",
       "    </tr>\n",
       "    <tr>\n",
       "      <th>2</th>\n",
       "      <td>1569</td>\n",
       "      <td>0.8</td>\n",
       "      <td>359</td>\n",
       "    </tr>\n",
       "    <tr>\n",
       "      <th>3</th>\n",
       "      <td>672</td>\n",
       "      <td>0.7</td>\n",
       "      <td>298</td>\n",
       "    </tr>\n",
       "    <tr>\n",
       "      <th>4</th>\n",
       "      <td>1514</td>\n",
       "      <td>0.4</td>\n",
       "      <td>265</td>\n",
       "    </tr>\n",
       "  </tbody>\n",
       "</table>\n",
       "</div>"
      ],
      "text/plain": [
       "      w    v    c\n",
       "0   897  0.6  167\n",
       "1   138  0.6  293\n",
       "2  1569  0.8  359\n",
       "3   672  0.7  298\n",
       "4  1514  0.4  265"
      ]
     },
     "execution_count": 4,
     "metadata": {},
     "output_type": "execute_result"
    }
   ],
   "source": [
    "data, W, V = read_file(var)\n",
    "weights = len(data.index)\n",
    "\n",
    "print(f'weights = {weights}') # количество весов\n",
    "print(f'W = {W}') # грузоподъёмность\n",
    "print(f'V = {V}') # вместимость\n",
    "\n",
    "print('data: ')   # w = вес, v = объём, c = ценность\n",
    "data.head()"
   ]
  },
  {
   "cell_type": "code",
   "execution_count": 5,
   "metadata": {},
   "outputs": [],
   "source": [
    "def sum_col(solution, col):\n",
    "    return round(sum(data[col][i] if s else 0 for i, s in enumerate(solution)), 5)\n",
    "\n",
    "def sums(solution):\n",
    "    return [sum_col(solution, col) for col in ['w', 'v', 'c']]"
   ]
  },
  {
   "cell_type": "code",
   "execution_count": 6,
   "metadata": {},
   "outputs": [],
   "source": [
    "def valid(w, v):\n",
    "    return w <= W and v <= V"
   ]
  },
  {
   "cell_type": "code",
   "execution_count": 7,
   "metadata": {},
   "outputs": [],
   "source": [
    "def fitness(solution):\n",
    "    w, v, c = sums(solution)\n",
    "    return c if valid(w, v) \\\n",
    "            else 0 # c - 5 * (min(W - w, 0) - min(V - v, 0))"
   ]
  },
  {
   "cell_type": "code",
   "execution_count": 8,
   "metadata": {},
   "outputs": [],
   "source": [
    "def sort_solutions(solutions):\n",
    "    sorted = list(solutions)\n",
    "    sorted.sort(key=fitness, reverse=True)\n",
    "    return sorted"
   ]
  },
  {
   "cell_type": "code",
   "execution_count": 9,
   "metadata": {},
   "outputs": [],
   "source": [
    "def w(i):\n",
    "    return data['w'][i]\n",
    "\n",
    "def v(i):\n",
    "    return data['v'][i]\n",
    "\n",
    "def c(i):\n",
    "    return data['c'][i]"
   ]
  },
  {
   "cell_type": "code",
   "execution_count": 10,
   "metadata": {},
   "outputs": [],
   "source": [
    "def to_str(solution):\n",
    "    return '[' + ''.join(['#' if i else ' ' for i in solution]) + ']'"
   ]
  },
  {
   "cell_type": "markdown",
   "metadata": {},
   "source": [
    "# Условия"
   ]
  },
  {
   "cell_type": "markdown",
   "metadata": {},
   "source": [
    "## 0. Кодирование – выбор «генетического кода»  \n",
    "  Особь – битовая последовательность размера n (кол-во грузов)  "
   ]
  },
  {
   "cell_type": "markdown",
   "metadata": {},
   "source": [
    "## 1. Начальная популяция – кол-во особей всегда = 200:  \n",
    "  1.1 случайная генерация  \n",
    "  1.2 **жадный выбор, начиная со случайного груза**  "
   ]
  },
  {
   "cell_type": "code",
   "execution_count": 11,
   "metadata": {},
   "outputs": [],
   "source": [
    "def random_solution():\n",
    "    start = random.randint(0, weights - 1)\n",
    "    end = start\n",
    "    \n",
    "    sumW = w(start)\n",
    "    sumV = v(start)\n",
    "    while end + 1 < weights \\\n",
    "            and sumW + w(end + 1) <= W \\\n",
    "            and sumV + v(end + 1) <= V:\n",
    "        end += 1\n",
    "        sumW = round(sumW + w(end), 5)\n",
    "        sumV = round(sumV + v(end), 5)\n",
    "    \n",
    "    return [True if start <= i and i <= end else False for i in range(0, weights - 1)]"
   ]
  },
  {
   "cell_type": "code",
   "execution_count": 12,
   "metadata": {
    "scrolled": false
   },
   "outputs": [
    {
     "name": "stdout",
     "output_type": "stream",
     "text": [
      "[             ############    ]\n",
      "[                      #######]\n",
      "[               ############  ]\n",
      "[       ##########            ]\n",
      "[   ##########                ]\n",
      "[##########                   ]\n",
      "[          ############       ]\n",
      "[                          ###]\n",
      "[                ############ ]\n",
      "[                            #]\n"
     ]
    }
   ],
   "source": [
    "population = [random_solution() for i in range(0, population_size)]\n",
    "\n",
    "# demonstration\n",
    "for s in population[:10]:\n",
    "    print(to_str(s)) "
   ]
  },
  {
   "cell_type": "markdown",
   "metadata": {},
   "source": [
    "\n",
    "## 2. Отбор особей для скрещивания:  \n",
    "  2.1 выбор каждой особи пропорционально приспособленности (рулетка)  \n",
    "  2.2 **выбрать только 20% самых приспособленных особей**  \n"
   ]
  },
  {
   "cell_type": "code",
   "execution_count": 13,
   "metadata": {},
   "outputs": [],
   "source": [
    "def divide(solutions):\n",
    "    sorted = sort_solutions(solutions)\n",
    "    remains = round(len(solutions) / 5)\n",
    "    # top, middle, trash\n",
    "    return sorted[:remains], \\\n",
    "            sorted[remains:-remains], \\\n",
    "            sorted[-remains:]"
   ]
  },
  {
   "cell_type": "markdown",
   "metadata": {},
   "source": [
    "## 3. Скрещивание (кроссинговер) между выбранными особями. \n",
    "Каждая особь скрещивается 1 раз за 1 поколение, 1 пара дает 2 потомка:   \n",
    "  3.1 **многоточечный с 3мя точками**  \n",
    "  3.2 однородный (каждый бит от случайно выбранного родителя)  "
   ]
  },
  {
   "cell_type": "code",
   "execution_count": 14,
   "metadata": {},
   "outputs": [],
   "source": [
    "\n",
    "def intercourse(solution1, solution2):\n",
    "    randomlist = random.sample(range(0, len(solution1)), 3)\n",
    "    randomlist.sort()\n",
    "    p1, p2, p3 = randomlist\n",
    "    matrix = [True] * p1 \\\n",
    "            + [False] * (p2 - p1) \\\n",
    "            + [True] * (p3 - p2) \\\n",
    "            + [False] * (len(solution1) - p3)\n",
    "    \n",
    "    zipped = list(zip(matrix, solution1, solution2))\n",
    "    \n",
    "    c1 = [s1 if     w else s2 for w, s1, s2 in zipped]\n",
    "    c2 = [s1 if not w else s2 for w, s1, s2 in zipped]\n",
    "    \n",
    "    return c1, c2\n"
   ]
  },
  {
   "cell_type": "markdown",
   "metadata": {},
   "source": [
    "## 4. Мутация:  \n",
    "  4.1 **инвертирование всех битов у 1 особи**  \n",
    "  4.2 случайное изменение 3х битов у 5% особей  \n",
    "  4.3 добавление 1 случайной вещи 5% особей  "
   ]
  },
  {
   "cell_type": "code",
   "execution_count": 15,
   "metadata": {},
   "outputs": [],
   "source": [
    "def mutate(solutions):\n",
    "    for i in range(0, 50): # несколько раз пробуем, может не получиться\n",
    "        r = random.randint(0, len(solutions) - 1)\n",
    "        mutant = [not s for s in solutions[r]]\n",
    "        if fitness(mutant) > 0:\n",
    "            solutions[r] = mutant\n",
    "            return"
   ]
  },
  {
   "cell_type": "markdown",
   "metadata": {},
   "source": [
    "## 5. Формирование новой популяции (кол-во особей - константа)  \n",
    "  5.1 замена 20% худших особей из предыдущего поколения на лучших потомков  \n",
    "  5.2 «штраф» за «старость» - 10% функции приспособленности, выбор лучших  \n",
    "  5.3 **замена своих родителей**  "
   ]
  },
  {
   "cell_type": "code",
   "execution_count": 16,
   "metadata": {},
   "outputs": [],
   "source": [
    "def make_children(alfas):\n",
    "    children = []\n",
    "    alfas = list(alfas)\n",
    "    random.shuffle(alfas)\n",
    "    while len(alfas) >= 2:\n",
    "        children += intercourse(alfas.pop(), alfas.pop())\n",
    "    return children"
   ]
  },
  {
   "cell_type": "code",
   "execution_count": 17,
   "metadata": {},
   "outputs": [],
   "source": [
    "def new_gen(solutions):\n",
    "    alfas, incels, trash = divide(solutions)\n",
    "    # new_gen = alfas + make_children(alfas) + incels\n",
    "    new_gen = make_children(alfas) + incels + trash\n",
    "    mutate(new_gen)\n",
    "    return new_gen"
   ]
  },
  {
   "cell_type": "markdown",
   "metadata": {},
   "source": [
    "## 6. Оценка результата  \n",
    "Наступила сходимость (функция приспособленности лучшей особи в популяциях отличается не более, чем на стоимость самой дешевой вещи) или прошло 500 поколений"
   ]
  },
  {
   "cell_type": "code",
   "execution_count": 18,
   "metadata": {},
   "outputs": [],
   "source": [
    "min_price = min(data['c'])\n",
    "\n",
    "def enough(gen, population, the_best):\n",
    "    sorted = sort_solutions(population)\n",
    "    best = sorted[0]\n",
    "    \n",
    "    print(gen, fitness(best), to_str(best))\n",
    "    \n",
    "    is_enough = gen >= 100 #or abs(the_best) - abs(best) <= min_price\n",
    "    the_best = select_the_best(best, the_best)\n",
    "\n",
    "    return is_enough, the_best"
   ]
  },
  {
   "cell_type": "code",
   "execution_count": 19,
   "metadata": {},
   "outputs": [],
   "source": [
    "def select_the_best(best, the_best):\n",
    "    best_fitnesses.append(fitness(best))\n",
    "    return best if fitness(best) > fitness(the_best) else the_best"
   ]
  },
  {
   "cell_type": "markdown",
   "metadata": {},
   "source": [
    " ## Алгоритм итерирования\n",
    " 1. Начальная популяция - `random_solution()`\n",
    " 2. Отбор - `divide()`\n",
    " 3. Скрещивание - `intercourse()`\n",
    " 4. Мутация - `mutate()`\n",
    " 5. Новая популяция - `new_gen()`\n",
    " 6. Если результат не достигнут, перейти к п.2 - `enough()`\n",
    " 7. Результирующая популяция - `result_gen`, лучшее решение `the_best`\n",
    " "
   ]
  },
  {
   "cell_type": "code",
   "execution_count": 20,
   "metadata": {
    "scrolled": false
   },
   "outputs": [
    {
     "name": "stdout",
     "output_type": "stream",
     "text": [
      "0 3557 [           #############     ]\n",
      "1 3557 [           #############     ]\n",
      "2 3663 [      #   ############       ]\n",
      "3 3557 [           #############     ]\n",
      "4 3827 [       ## ## #########       ]\n",
      "5 3557 [           #############     ]\n",
      "6 3272 [  #        ##########  #     ]\n",
      "7 3075 [  #         #### ##### #     ]\n",
      "8 3169 [ ####          ######        ]\n",
      "9 4099 [####  #      #########       ]\n",
      "10 3429 [ ####          ######  ##    ]\n",
      "11 3436 [   #  ##      ########       ]\n",
      "12 3420 [         ####  #### ###      ]\n",
      "13 3207 [               ############  ]\n",
      "14 2825 [           ##  ######    # # ]\n",
      "15 2557 [               #  ## ########]\n",
      "16 2676 [     ###     #      ### ## ##]\n",
      "17 2597 [###                 ### #####]\n",
      "18 2675 [  ##       #      # # ###### ]\n",
      "19 2530 [             #   ## ### ## ##]\n",
      "20 3418 [   #      ##    ### ### ## ##]\n",
      "21 2747 [####       ##        #  #####]\n",
      "22 2556 [ #             ##   # #######]\n",
      "23 2746 [#  ##          #    ### ## ##]\n",
      "24 2346 [#  ##            #   ## ## ##]\n",
      "25 2178 [   #             #   ########]\n",
      "26 2829 [ ##       #      ## # ## # ##]\n",
      "27 2804 [ ##          #   ## # ## # ##]\n",
      "28 2478 [ ##          #   ## # ## #   ]\n",
      "29 2199 [ ##              ## #    # ##]\n",
      "30 2578 [  #  ###       #   ##  ###   ]\n",
      "31 2495 [ #        #     ###    ######]\n",
      "32 2053 [##              ## #   #### #]\n",
      "33 2135 [##   ##         ## #   # #   ]\n",
      "34 2479 [##   ##         ## #   ### # ]\n",
      "35 2123 [##              ## #   ### ##]\n",
      "36 2136 [##         #    ##      #####]\n",
      "37 2573 [#  #      #   #   #  ## ## ##]\n",
      "38 3042 [#  #      #   ## ##  ## ##  #]\n",
      "39 2202 [##    #        # #  #   ##  #]\n",
      "40 2433 [##    #        # #  #   #### ]\n",
      "41 2294 [##    #        # #  #   ## # ]\n",
      "42 2550 [##    #        # #  #   #####]\n",
      "43 2107 [#  #      #     #   # # ##  #]\n",
      "44 2104 [  #          #   # # ###  # #]\n",
      "45 2311 [## #      #    #      # ## ##]\n",
      "46 2568 [## #   #   #   # #       ### ]\n",
      "47 2191 [## #   #   #     #       ### ]\n",
      "48 2253 [ #    #     ##     # ###  # #]\n",
      "49 2143 [## #              # #    ####]\n",
      "50 2356 [#  #         #    ##  # #####]\n",
      "51 2573 [#  #     #   #    ##  # ## ##]\n",
      "52 2659 [#  #     #   #   ##   # ## ##]\n",
      "53 2106 [            #  # #  # ##  ###]\n",
      "54 2354 [#      #        #  ## ## # ##]\n",
      "55 2169 [ ##            ##   #     ###]\n",
      "56 2570 [ ##            ##   # ##  ###]\n",
      "57 2177 [ ##            ##   #  #  ## ]\n",
      "58 2158 [ #               ##  #  #####]\n",
      "59 2041 [ #               ##  #  #### ]\n",
      "60 2198 [   #   #     # #      ## ### ]\n",
      "61 2579 [ #     #     # #  #   ## ### ]\n",
      "62 2286 [       #     # #  #   ## ### ]\n",
      "63 2345 [#  #        #    ##   #### # ]\n",
      "64 2489 [ #             #  # ###   ###]\n",
      "65 2474 [      #        #  # ###   ###]\n",
      "66 2237 [# #   #    #      #  #    ###]\n",
      "67 2289 [                  # #########]\n",
      "68 2545 [#     #        #  #  ## #### ]\n",
      "69 2235 [#              #  #  ### # ##]\n",
      "70 2237 [   #      # ## # #     #  ###]\n",
      "71 2169 [ #          #    ##   #  ####]\n",
      "72 2024 [         #       #  ##   ####]\n",
      "73 1952 [  #              #  ##  # ###]\n",
      "74 2129 [ #         #     ##    ######]\n",
      "75 2032 [  #          ##    #  ## ####]\n",
      "76 1883 [      #     #       ##   ####]\n",
      "77 2098 [      #     #      ###   ####]\n",
      "78 2042 [           #   # # #   ######]\n",
      "79 2169 [       # #     ##      ## ###]\n",
      "80 1895 [ #               # #  # #####]\n",
      "81 2219 [               #   ### ######]\n",
      "82 2386 [#              #   ### ######]\n",
      "83 2303 [            #  ##    ## #### ]\n",
      "84 2060 [            #  ##     ###### ]\n",
      "85 1868 [  #        #    # #      ### ]\n",
      "86 2005 [   #  #   #         # # # ###]\n",
      "87 2290 [   #  #     #    ## #     ###]\n",
      "88 2589 [   #  #     #    # ##  ######]\n",
      "89 1951 [           #       #### ## # ]\n",
      "90 2307 [         # #       #### ## # ]\n",
      "91 2035 [         # #       ###   ### ]\n",
      "92 2365 [   #     # #       ### #  ###]\n",
      "93 2067 [         # #       ### #  ###]\n",
      "94 2086 [       #  #        ### #  ###]\n",
      "95 2384 [   #   #  #        ### #  ###]\n",
      "96 2368 [ ##              # ## # # ###]\n",
      "97 2412 [ #         #   ###    # # ###]\n",
      "98 2216 [       #  #         ## ######]\n",
      "99 2059 [ #             #  # #  ### # ]\n",
      "100 2064 [   #        #   ##    # # ###]\n",
      "\n"
     ]
    }
   ],
   "source": [
    "best_fitnesses = []\n",
    "\n",
    "def iterate(population, gen = 0, the_best = population[0]):\n",
    "    assert len(population) == population_size\n",
    "    \n",
    "    is_enough, the_best = enough(gen, population, the_best)\n",
    "\n",
    "    if is_enough:\n",
    "        return population, the_best\n",
    "    else:\n",
    "        return iterate(new_gen(population), gen + 1, the_best)\n",
    "\n",
    "result_gen, the_best = iterate(population)\n",
    "print()"
   ]
  },
  {
   "cell_type": "code",
   "execution_count": 21,
   "metadata": {
    "scrolled": true
   },
   "outputs": [
    {
     "name": "stdout",
     "output_type": "stream",
     "text": [
      "The best: 4099 [####  #      #########       ]\n"
     ]
    }
   ],
   "source": [
    "print('The best:', fitness(the_best), to_str(the_best))"
   ]
  },
  {
   "cell_type": "code",
   "execution_count": 22,
   "metadata": {},
   "outputs": [
    {
     "name": "stdout",
     "output_type": "stream",
     "text": [
      "[   #        #   ##    # # ###] = 2064\n",
      "[       #  #       #   ### ###] = 1976\n",
      "[      #    #       # ##  # ##] = 1887\n",
      "[ #         #      #    ######] = 1828\n",
      "[  #       ##   #      # #  # ] = 1799\n",
      "[ #               #  # # ### #] = 1795\n",
      "[ #                # #  ### # ] = 1682\n",
      "[ ##   #            #     # ##] = 1681\n",
      "[                  #  #  #####] = 1564\n",
      "[#          # #         ######] = 1520\n",
      "[               #  #   #   ###] = 1504\n",
      "[    #       #    #  #     ## ] = 1476\n",
      "[ #             #   #    # ## ] = 1368\n",
      "[               #    #  #  ###] = 1291\n",
      "[           #      ##      ###] = 1280\n"
     ]
    }
   ],
   "source": [
    "for s in sort_solutions(result_gen)[:15]:\n",
    "    print(to_str(s) + ' = ' + str(fitness(s)))"
   ]
  },
  {
   "cell_type": "code",
   "execution_count": 23,
   "metadata": {},
   "outputs": [
    {
     "name": "stdout",
     "output_type": "stream",
     "text": [
      "[           #############     ] = 3557\n",
      "[           #############     ] = 3557\n",
      "[           #############     ] = 3557\n",
      "[           #############     ] = 3557\n",
      "[           #############     ] = 3557\n",
      "[           #############     ] = 3557\n",
      "[           #############     ] = 3557\n",
      "[           #############     ] = 3557\n",
      "[          ############       ] = 3385\n",
      "[          ############       ] = 3385\n",
      "[          ############       ] = 3385\n",
      "[          ############       ] = 3385\n",
      "[          ############       ] = 3385\n",
      "[         ############        ] = 3373\n",
      "[         ############        ] = 3373\n",
      "[         ############        ] = 3373\n",
      "[         ############        ] = 3373\n",
      "[            ############     ] = 3343\n",
      "[            ############     ] = 3343\n",
      "[            ############     ] = 3343\n",
      "[            ############     ] = 3343\n",
      "[            ############     ] = 3343\n",
      "[            ############     ] = 3343\n",
      "[            ############     ] = 3343\n",
      "[            ############     ] = 3343\n",
      "[            ############     ] = 3343\n",
      "[              ############   ] = 3246\n",
      "[              ############   ] = 3246\n",
      "[              ############   ] = 3246\n",
      "[              ############   ] = 3246\n",
      "[              ############   ] = 3246\n",
      "[              ############   ] = 3246\n",
      "[             ############    ] = 3240\n",
      "[             ############    ] = 3240\n",
      "[             ############    ] = 3240\n",
      "[             ############    ] = 3240\n",
      "[             ############    ] = 3240\n",
      "[             ############    ] = 3240\n",
      "[             ############    ] = 3240\n",
      "[             ############    ] = 3240\n"
     ]
    }
   ],
   "source": [
    "for s in sort_solutions(population)[:40]:\n",
    "    print(to_str(s) + ' = ' + str(fitness(s)))"
   ]
  },
  {
   "cell_type": "code",
   "execution_count": 24,
   "metadata": {},
   "outputs": [
    {
     "data": {
      "text/plain": [
       "[<matplotlib.lines.Line2D at 0x122a97610>]"
      ]
     },
     "execution_count": 24,
     "metadata": {},
     "output_type": "execute_result"
    },
    {
     "data": {
      "image/png": "[encoded data removed]",
      "text/plain": [
       "<Figure size 432x288 with 1 Axes>"
      ]
     },
     "metadata": {
      "needs_background": "light"
     },
     "output_type": "display_data"
    }
   ],
   "source": [
    "plt.plot(best_fitnesses)"
   ]
  },
  {
   "cell_type": "code",
   "execution_count": null,
   "metadata": {},
   "outputs": [],
   "source": []
  },
  {
   "cell_type": "code",
   "execution_count": null,
   "metadata": {},
   "outputs": [],
   "source": []
  }
 ],
 "metadata": {
  "kernelspec": {
   "display_name": "Python 3",
   "language": "python",
   "name": "python3"
  },
  "language_info": {
   "codemirror_mode": {
    "name": "ipython",
    "version": 3
   },
   "file_extension": ".py",
   "mimetype": "text/x-python",
   "name": "python",
   "nbconvert_exporter": "python",
   "pygments_lexer": "ipython3",
   "version": "3.7.9"
  }
 },
 "nbformat": 4,
 "nbformat_minor": 4
}
