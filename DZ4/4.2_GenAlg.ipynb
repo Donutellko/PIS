{
 "cells": [
  {
   "cell_type": "markdown",
   "metadata": {},
   "source": [
    "# 4.2 Реализация генетического алгоритма\n",
    "Реализовать генетический алгоритм решения задачи о рюкзаке, используя свой набор генетических операторов (определяется номером в списке и другими параметрами), и получить результаты на своем наборе данных (определяется номером в списке).\n",
    "\n",
    "Шергалис Донат, 3530903/70301 Вариант 31."
   ]
  },
  {
   "cell_type": "code",
   "execution_count": 1,
   "metadata": {},
   "outputs": [],
   "source": [
    "var = 31\n",
    "population_size = 200\n",
    "population_division = 2"
   ]
  },
  {
   "cell_type": "code",
   "execution_count": 2,
   "metadata": {},
   "outputs": [],
   "source": [
    "import numpy as np\n",
    "import pandas as pd\n",
    "import matplotlib.pyplot as plt\n",
    "import itertools\n",
    "import random\n",
    "import json\n",
    "from operator import itemgetter \n",
    "from geneticalgorithm import geneticalgorithm as ga"
   ]
  },
  {
   "cell_type": "code",
   "execution_count": 3,
   "metadata": {},
   "outputs": [],
   "source": [
    "def read_file(var = var):\n",
    "    data_file = 'data/' + str(var) + '.txt'\n",
    "\n",
    "    with open(data_file) as f:\n",
    "        W, V = [int(x) for x in next(f).split()]\n",
    "\n",
    "    data = pd.read_csv(data_file, \n",
    "                       skiprows=1,  \n",
    "                       names=['w', 'v', 'c'], \n",
    "                       delim_whitespace=True)\n",
    "    return data, W, V"
   ]
  },
  {
   "cell_type": "code",
   "execution_count": 4,
   "metadata": {
    "scrolled": false
   },
   "outputs": [
    {
     "name": "stdout",
     "output_type": "stream",
     "text": [
      "weights = 30\n",
      "W = 13000\n",
      "V = 12\n",
      "data: \n"
     ]
    },
    {
     "data": {
      "text/html": [
       "<div>\n",
       "<style scoped>\n",
       "    .dataframe tbody tr th:only-of-type {\n",
       "        vertical-align: middle;\n",
       "    }\n",
       "\n",
       "    .dataframe tbody tr th {\n",
       "        vertical-align: top;\n",
       "    }\n",
       "\n",
       "    .dataframe thead th {\n",
       "        text-align: right;\n",
       "    }\n",
       "</style>\n",
       "<table border=\"1\" class=\"dataframe\">\n",
       "  <thead>\n",
       "    <tr style=\"text-align: right;\">\n",
       "      <th></th>\n",
       "      <th>w</th>\n",
       "      <th>v</th>\n",
       "      <th>c</th>\n",
       "    </tr>\n",
       "  </thead>\n",
       "  <tbody>\n",
       "    <tr>\n",
       "      <th>0</th>\n",
       "      <td>897</td>\n",
       "      <td>0.6</td>\n",
       "      <td>167</td>\n",
       "    </tr>\n",
       "    <tr>\n",
       "      <th>1</th>\n",
       "      <td>138</td>\n",
       "      <td>0.6</td>\n",
       "      <td>293</td>\n",
       "    </tr>\n",
       "    <tr>\n",
       "      <th>2</th>\n",
       "      <td>1569</td>\n",
       "      <td>0.8</td>\n",
       "      <td>359</td>\n",
       "    </tr>\n",
       "    <tr>\n",
       "      <th>3</th>\n",
       "      <td>672</td>\n",
       "      <td>0.7</td>\n",
       "      <td>298</td>\n",
       "    </tr>\n",
       "    <tr>\n",
       "      <th>4</th>\n",
       "      <td>1514</td>\n",
       "      <td>0.4</td>\n",
       "      <td>265</td>\n",
       "    </tr>\n",
       "  </tbody>\n",
       "</table>\n",
       "</div>"
      ],
      "text/plain": [
       "      w    v    c\n",
       "0   897  0.6  167\n",
       "1   138  0.6  293\n",
       "2  1569  0.8  359\n",
       "3   672  0.7  298\n",
       "4  1514  0.4  265"
      ]
     },
     "execution_count": 4,
     "metadata": {},
     "output_type": "execute_result"
    }
   ],
   "source": [
    "data, W, V = read_file(var)\n",
    "weights = len(data.index)\n",
    "\n",
    "print(f'weights = {weights}') # количество весов\n",
    "print(f'W = {W}') # грузоподъёмность\n",
    "print(f'V = {V}') # вместимость\n",
    "\n",
    "print('data: ')   # w = вес, v = объём, c = ценность\n",
    "data.head()"
   ]
  },
  {
   "cell_type": "code",
   "execution_count": 5,
   "metadata": {},
   "outputs": [],
   "source": [
    "def sum_col(solution, col):\n",
    "    return round(sum(data[col][i] if s else 0 for i, s in enumerate(solution)), 5)\n",
    "\n",
    "def sums(solution):\n",
    "    return [sum_col(solution, col) for col in ['w', 'v', 'c']]"
   ]
  },
  {
   "cell_type": "code",
   "execution_count": 6,
   "metadata": {},
   "outputs": [],
   "source": [
    "def valid(solution):\n",
    "    w, v, c = sums(solution)\n",
    "    return w <= W and v <= V"
   ]
  },
  {
   "cell_type": "code",
   "execution_count": 7,
   "metadata": {},
   "outputs": [],
   "source": [
    "def filtrate(solutions):\n",
    "    return [s for s in solutions if valid(s)]"
   ]
  },
  {
   "cell_type": "code",
   "execution_count": 8,
   "metadata": {},
   "outputs": [],
   "source": [
    "def fitness(solution):\n",
    "    w, v, c = sums(solution)\n",
    "    return c if  w <= W and v <= V \\\n",
    "            else 0 # c / (min(w / V, 1.5) + min(v / V, 1.5))"
   ]
  },
  {
   "cell_type": "code",
   "execution_count": 9,
   "metadata": {},
   "outputs": [],
   "source": [
    "def sort_solutions(solutions):\n",
    "    sorted = list(solutions)\n",
    "    sorted.sort(key=fitness, reverse=True)\n",
    "    return sorted"
   ]
  },
  {
   "cell_type": "code",
   "execution_count": 10,
   "metadata": {},
   "outputs": [],
   "source": [
    "def w(i):\n",
    "    return data['w'][i]\n",
    "\n",
    "def v(i):\n",
    "    return data['v'][i]\n",
    "\n",
    "def c(i):\n",
    "    return data['c'][i]"
   ]
  },
  {
   "cell_type": "code",
   "execution_count": 11,
   "metadata": {},
   "outputs": [],
   "source": [
    "def to_str(solution):\n",
    "    return '[' + ''.join(['#' if i else ' ' for i in solution]) + ']'"
   ]
  },
  {
   "cell_type": "markdown",
   "metadata": {},
   "source": [
    "# Условия"
   ]
  },
  {
   "cell_type": "markdown",
   "metadata": {},
   "source": [
    "## 0. Кодирование – выбор «генетического кода»  \n",
    "  Особь – битовая последовательность размера n (кол-во грузов)  "
   ]
  },
  {
   "cell_type": "markdown",
   "metadata": {},
   "source": [
    "## 1. Начальная популяция – кол-во особей всегда = 200:  \n",
    "  1.1 случайная генерация  \n",
    "  1.2 **жадный выбор, начиная со случайного груза**  "
   ]
  },
  {
   "cell_type": "code",
   "execution_count": 12,
   "metadata": {},
   "outputs": [
    {
     "data": {
      "text/plain": [
       "[0,\n",
       " 1,\n",
       " 2,\n",
       " 3,\n",
       " 4,\n",
       " 5,\n",
       " 6,\n",
       " 7,\n",
       " 8,\n",
       " 9,\n",
       " 10,\n",
       " 11,\n",
       " 12,\n",
       " 13,\n",
       " 14,\n",
       " 15,\n",
       " 16,\n",
       " 17,\n",
       " 18,\n",
       " 19,\n",
       " 20,\n",
       " 21,\n",
       " 22,\n",
       " 23,\n",
       " 24,\n",
       " 25,\n",
       " 26,\n",
       " 27,\n",
       " 28,\n",
       " 29]"
      ]
     },
     "execution_count": 12,
     "metadata": {},
     "output_type": "execute_result"
    }
   ],
   "source": [
    "list(range(weights))"
   ]
  },
  {
   "cell_type": "code",
   "execution_count": 13,
   "metadata": {},
   "outputs": [],
   "source": [
    "# берёт случайные элементы, пока не станет слишком много\n",
    "def random_greedy_shuffled_solution():\n",
    "    \n",
    "    randomlist = list(range(weights))\n",
    "    random.shuffle(randomlist)\n",
    "    \n",
    "    solution = [False] * weights\n",
    "    sumW = 0\n",
    "    sumV = 0\n",
    "    \n",
    "    for r in randomlist:\n",
    "        if sumW + w(r) <= W and sumV + v(r) <= W:\n",
    "            sumW += w(r)\n",
    "            sumV += v(r)\n",
    "            solution[r] = True\n",
    "        else: \n",
    "            break\n",
    "\n",
    "    return solution\n",
    "\n",
    "# берёт подряд, начиная со случайного элемента, пока не станет слишком много\n",
    "def random_greedy_solution():\n",
    "    start = random.randint(0, weights - 1)\n",
    "    end = start\n",
    "    \n",
    "    sumW = w(start)\n",
    "    sumV = v(start)\n",
    "    while end + 1 < weights \\\n",
    "            and sumW + w(end + 1) <= W \\\n",
    "            and sumV + v(end + 1) <= V:\n",
    "        end += 1\n",
    "        sumW = round(sumW + w(end), 5)\n",
    "        sumV = round(sumV + v(end), 5)\n",
    "    \n",
    "    return [True if start <= i and i <= end else False for i in range(weights)]"
   ]
  },
  {
   "cell_type": "code",
   "execution_count": 14,
   "metadata": {
    "scrolled": false
   },
   "outputs": [
    {
     "name": "stdout",
     "output_type": "stream",
     "text": [
      "[                      ########]\n",
      "[        ###########           ]\n",
      "[                       #######]\n",
      "[    #########                 ]\n",
      "[  ##########                  ]\n",
      "[         ############         ]\n",
      "[        ###########           ]\n",
      "[  ##########                  ]\n",
      "[             ############     ]\n",
      "[  ##########                  ]\n"
     ]
    }
   ],
   "source": [
    "population = [random_greedy_solution() for i in range(0, population_size)]\n",
    "\n",
    "# demonstration\n",
    "for s in population[:10]:\n",
    "    print(to_str(s)) "
   ]
  },
  {
   "cell_type": "markdown",
   "metadata": {},
   "source": [
    "\n",
    "## 2. Отбор особей для скрещивания:  \n",
    "  2.1 выбор каждой особи пропорционально приспособленности (рулетка)  \n",
    "  2.2 **выбрать только 20% самых приспособленных особей**  \n"
   ]
  },
  {
   "cell_type": "code",
   "execution_count": 15,
   "metadata": {},
   "outputs": [],
   "source": [
    "def divide(solutions):\n",
    "    sorted = sort_solutions(solutions)\n",
    "    remains = round(len(solutions) / population_division)\n",
    "    # top 20%, others, worst 20%\n",
    "    return sorted[:remains], \\\n",
    "            sorted[remains:-remains], \\\n",
    "            sorted[-remains:]"
   ]
  },
  {
   "cell_type": "markdown",
   "metadata": {},
   "source": [
    "## 3. Скрещивание (кроссинговер) между выбранными особями. \n",
    "Каждая особь скрещивается 1 раз за 1 поколение, 1 пара дает 2 потомка:   \n",
    "  3.1 **многоточечный с 3мя точками**  \n",
    "  3.2 однородный (каждый бит от случайно выбранного родителя)  "
   ]
  },
  {
   "cell_type": "code",
   "execution_count": 16,
   "metadata": {},
   "outputs": [],
   "source": [
    "\n",
    "def intercourse(solution1, solution2):\n",
    "    randomlist = random.sample(range(0, len(solution1)), 3)\n",
    "    randomlist.sort()\n",
    "    p1, p2, p3 = randomlist\n",
    "    matrix = [True] * p1 \\\n",
    "            + [False] * (p2 - p1) \\\n",
    "            + [True] * (p3 - p2) \\\n",
    "            + [False] * (len(solution1) - p3)\n",
    "    \n",
    "    zipped = list(zip(matrix, solution1, solution2))\n",
    "    \n",
    "    c1 = [s1 if     w else s2 for w, s1, s2 in zipped]\n",
    "    c2 = [s1 if not w else s2 for w, s1, s2 in zipped]\n",
    "    \n",
    "    return c1, c2\n"
   ]
  },
  {
   "cell_type": "markdown",
   "metadata": {},
   "source": [
    "## 4. Мутация:  \n",
    "  4.1 **инвертирование всех битов у 1 особи**  \n",
    "  4.2 случайное изменение 3х битов у 5% особей  \n",
    "  4.3 добавление 1 случайной вещи 5% особей  "
   ]
  },
  {
   "cell_type": "code",
   "execution_count": 17,
   "metadata": {},
   "outputs": [],
   "source": [
    "def mutate(solutions):\n",
    "    for i in range(0, 50): # несколько раз пробуем, может не получиться\n",
    "        r = random.randint(0, len(solutions) - 1)\n",
    "        mutant = [not s for s in solutions[r]]\n",
    "        if fitness(mutant) > 0:\n",
    "            solutions[r] = mutant\n",
    "            return"
   ]
  },
  {
   "cell_type": "markdown",
   "metadata": {},
   "source": [
    "## 5. Формирование новой популяции (кол-во особей - константа)  \n",
    "  5.1 замена 20% худших особей из предыдущего поколения на лучших потомков  \n",
    "  5.2 «штраф» за «старость» - 10% функции приспособленности, выбор лучших  \n",
    "  5.3 **замена своих родителей**  "
   ]
  },
  {
   "cell_type": "code",
   "execution_count": 18,
   "metadata": {},
   "outputs": [],
   "source": [
    "def make_children(parents):\n",
    "    children = []\n",
    "    parents = list(parents)\n",
    "    random.shuffle(parents)\n",
    "    while len(parents) >= 2:\n",
    "        children += intercourse(parents.pop(), parents.pop())\n",
    "    return children"
   ]
  },
  {
   "cell_type": "code",
   "execution_count": 19,
   "metadata": {},
   "outputs": [],
   "source": [
    "def new_gen(solutions):\n",
    "    top, others, worst = divide(solutions)\n",
    "    new_gen = top + others + make_children(top)\n",
    "    # new_gen = make_children(top) + others + worst\n",
    "    # new_gen = make_children(top + others) + worst\n",
    "    mutate(new_gen)\n",
    "    clean_gen(new_gen)\n",
    "    return new_gen"
   ]
  },
  {
   "cell_type": "markdown",
   "metadata": {},
   "source": [
    "### Очистка популяции: \n",
    "Избавляемся от нежизнеспособных ребят, заменяя их на свежесгенерированных:"
   ]
  },
  {
   "cell_type": "code",
   "execution_count": 20,
   "metadata": {},
   "outputs": [],
   "source": [
    "def clean_gen(solutions):\n",
    "    for i, s in enumerate(solutions):\n",
    "        if fitness(s) == 0:\n",
    "            solutions[i] = random_greedy_shuffled_solution()"
   ]
  },
  {
   "cell_type": "markdown",
   "metadata": {},
   "source": [
    "## 6. Оценка результата  \n",
    "Наступила сходимость (функция приспособленности лучшей особи в популяциях отличается не более, чем на стоимость самой дешевой вещи) или прошло 500 поколений"
   ]
  },
  {
   "cell_type": "code",
   "execution_count": 21,
   "metadata": {},
   "outputs": [
    {
     "name": "stdout",
     "output_type": "stream",
     "text": [
      "min price = 117\n"
     ]
    }
   ],
   "source": [
    "min_price = min(data['c'])\n",
    "print(\"min price = \" + str(min_price))\n",
    "\n",
    "def enough(gen, population, the_best):\n",
    "    sorted_filtered = sort_solutions(filtrate(population))\n",
    "    best = sorted_filtered[0]\n",
    "    \n",
    "    print(gen, fitness(best), to_str(best))\n",
    "    \n",
    "    is_enough = (gen >= 200 or fitness(best) - fitness(sorted_filtered[-1]) <= min_price)\n",
    "    the_best = select_the_best(best, the_best)\n",
    "\n",
    "    return is_enough, the_best"
   ]
  },
  {
   "cell_type": "code",
   "execution_count": 22,
   "metadata": {},
   "outputs": [],
   "source": [
    "def select_the_best(best, the_best):\n",
    "    best_fitnesses.append(fitness(best))\n",
    "    return best if fitness(best) > fitness(the_best) else the_best"
   ]
  },
  {
   "cell_type": "markdown",
   "metadata": {},
   "source": [
    " ## Алгоритм итерирования\n",
    " 1. Начальная популяция - `random_greedy_solution()`\n",
    " 2. Отбор - `divide()`\n",
    " 3. Скрещивание - `intercourse()`\n",
    " 4. Мутация - `mutate()`\n",
    " 5. Новая популяция - `new_gen()`\n",
    " 6. Если результат не достигнут, перейти к п.2 - `enough()`\n",
    " 7. Результирующая популяция - `result_gen`, лучшее решение `the_best`\n",
    " "
   ]
  },
  {
   "cell_type": "code",
   "execution_count": 23,
   "metadata": {
    "scrolled": false
   },
   "outputs": [
    {
     "name": "stdout",
     "output_type": "stream",
     "text": [
      "0 3557 [           #############      ]\n",
      "1 4184 [ ###  ##   #   # ###### #     ]\n",
      "2 4184 [ ###  ##   #   # ###### #     ]\n",
      "3 4184 [ ###  ##   #   # ###### #     ]\n",
      "4 4184 [ ###  ##   #   # ###### #     ]\n",
      "5 4184 [ ###  ##   #   # ###### #     ]\n",
      "6 4184 [ ###  ##   #   # ###### #     ]\n",
      "7 4184 [ ###  ##   #   # ###### #     ]\n",
      "8 4184 [ ###  ##   #   # ###### #     ]\n",
      "9 4184 [ ###  ##   #   # ###### #     ]\n",
      "10 4322 [####  ###      # ######       ]\n",
      "11 4322 [####  ###      # ######       ]\n",
      "12 4322 [####  ###      # ######       ]\n",
      "13 4322 [####  ###      # ######       ]\n",
      "14 4322 [####  ###      # ######       ]\n",
      "15 4345 [####  ##   #   # #####     # #]\n",
      "16 4397 [####  ###      #######        ]\n",
      "17 4525 [####    ## #   #######       #]\n",
      "18 4525 [####    ## #   #######       #]\n",
      "19 4525 [####    ## #   #######       #]\n",
      "20 4525 [####    ## #   #######       #]\n",
      "21 4640 [ ###  ###  #   #######       #]\n",
      "22 4640 [ ###  ###  #   #######       #]\n",
      "23 4640 [ ###  ###  #   #######       #]\n",
      "24 4640 [ ###  ###  #   #######       #]\n",
      "25 4640 [ ###  ###  #   #######       #]\n",
      "26 4640 [ ###  ###  #   #######       #]\n",
      "27 4640 [ ###  ###  #   #######       #]\n",
      "28 4640 [ ###  ###  #   #######       #]\n",
      "29 4640 [ ###  ###  #   #######       #]\n",
      "30 4640 [ ###  ###  #   #######       #]\n",
      "31 4640 [ ###  ###  #   #######       #]\n",
      "32 4640 [ ###  ###  #   #######       #]\n",
      "33 4640 [ ###  ###  #   #######       #]\n",
      "\n"
     ]
    }
   ],
   "source": [
    "best_fitnesses = []\n",
    "\n",
    "def iterate(population, gen = 0, the_best = population[0]):\n",
    "    assert len(population) == population_size\n",
    "    \n",
    "    is_enough, the_best = enough(gen, population, the_best)\n",
    "\n",
    "    if is_enough:\n",
    "        return population, the_best\n",
    "    else:\n",
    "        return iterate(new_gen(population), gen + 1, the_best)\n",
    "\n",
    "result_gen, the_best = iterate(population)\n",
    "print()"
   ]
  },
  {
   "cell_type": "code",
   "execution_count": 24,
   "metadata": {
    "scrolled": true
   },
   "outputs": [
    {
     "name": "stdout",
     "output_type": "stream",
     "text": [
      "The best: 4640 [ ###  ###  #   #######       #]\n"
     ]
    }
   ],
   "source": [
    "print('The best:', fitness(the_best), to_str(the_best))"
   ]
  },
  {
   "cell_type": "code",
   "execution_count": 25,
   "metadata": {},
   "outputs": [
    {
     "name": "stdout",
     "output_type": "stream",
     "text": [
      "[ ###  ###  #   #######       #] = 4640\n",
      "[ ###  ###  #   #######       #] = 4640\n",
      "[ ###  ###  #   #######       #] = 4640\n",
      "[ ###  ###  #   #######       #] = 4640\n",
      "[ ###  ###  #   #######       #] = 4640\n"
     ]
    }
   ],
   "source": [
    "for s in sort_solutions(result_gen)[:5]:\n",
    "    print(to_str(s) + ' = ' + str(fitness(s)))"
   ]
  },
  {
   "cell_type": "code",
   "execution_count": 26,
   "metadata": {},
   "outputs": [
    {
     "data": {
      "text/plain": [
       "[<matplotlib.lines.Line2D at 0x12b24ce10>]"
      ]
     },
     "execution_count": 26,
     "metadata": {},
     "output_type": "execute_result"
    },
    {
     "data": {
      "image/png": "[encoded data removed]",
      "text/plain": [
       "<Figure size 432x288 with 1 Axes>"
      ]
     },
     "metadata": {
      "needs_background": "light"
     },
     "output_type": "display_data"
    }
   ],
   "source": [
    "plt.plot(best_fitnesses)"
   ]
  },
  {
   "cell_type": "code",
   "execution_count": 27,
   "metadata": {},
   "outputs": [
    {
     "name": "stdout",
     "output_type": "stream",
     "text": [
      "W = 12670\n",
      "V = 11.6\n",
      "C = 4640\n"
     ]
    },
    {
     "data": {
      "text/html": [
       "<div>\n",
       "<style scoped>\n",
       "    .dataframe tbody tr th:only-of-type {\n",
       "        vertical-align: middle;\n",
       "    }\n",
       "\n",
       "    .dataframe tbody tr th {\n",
       "        vertical-align: top;\n",
       "    }\n",
       "\n",
       "    .dataframe thead th {\n",
       "        text-align: right;\n",
       "    }\n",
       "</style>\n",
       "<table border=\"1\" class=\"dataframe\">\n",
       "  <thead>\n",
       "    <tr style=\"text-align: right;\">\n",
       "      <th></th>\n",
       "      <th>w</th>\n",
       "      <th>v</th>\n",
       "      <th>c</th>\n",
       "    </tr>\n",
       "  </thead>\n",
       "  <tbody>\n",
       "    <tr>\n",
       "      <th>1</th>\n",
       "      <td>138</td>\n",
       "      <td>0.6</td>\n",
       "      <td>293</td>\n",
       "    </tr>\n",
       "    <tr>\n",
       "      <th>2</th>\n",
       "      <td>1569</td>\n",
       "      <td>0.8</td>\n",
       "      <td>359</td>\n",
       "    </tr>\n",
       "    <tr>\n",
       "      <th>3</th>\n",
       "      <td>672</td>\n",
       "      <td>0.7</td>\n",
       "      <td>298</td>\n",
       "    </tr>\n",
       "    <tr>\n",
       "      <th>6</th>\n",
       "      <td>1215</td>\n",
       "      <td>0.7</td>\n",
       "      <td>278</td>\n",
       "    </tr>\n",
       "    <tr>\n",
       "      <th>7</th>\n",
       "      <td>1292</td>\n",
       "      <td>0.6</td>\n",
       "      <td>360</td>\n",
       "    </tr>\n",
       "    <tr>\n",
       "      <th>8</th>\n",
       "      <td>996</td>\n",
       "      <td>0.6</td>\n",
       "      <td>320</td>\n",
       "    </tr>\n",
       "    <tr>\n",
       "      <th>11</th>\n",
       "      <td>716</td>\n",
       "      <td>0.7</td>\n",
       "      <td>214</td>\n",
       "    </tr>\n",
       "    <tr>\n",
       "      <th>15</th>\n",
       "      <td>1534</td>\n",
       "      <td>0.9</td>\n",
       "      <td>377</td>\n",
       "    </tr>\n",
       "    <tr>\n",
       "      <th>16</th>\n",
       "      <td>1066</td>\n",
       "      <td>0.6</td>\n",
       "      <td>351</td>\n",
       "    </tr>\n",
       "    <tr>\n",
       "      <th>17</th>\n",
       "      <td>714</td>\n",
       "      <td>1.1</td>\n",
       "      <td>301</td>\n",
       "    </tr>\n",
       "    <tr>\n",
       "      <th>18</th>\n",
       "      <td>278</td>\n",
       "      <td>1.0</td>\n",
       "      <td>386</td>\n",
       "    </tr>\n",
       "    <tr>\n",
       "      <th>19</th>\n",
       "      <td>791</td>\n",
       "      <td>1.2</td>\n",
       "      <td>215</td>\n",
       "    </tr>\n",
       "    <tr>\n",
       "      <th>20</th>\n",
       "      <td>255</td>\n",
       "      <td>1.0</td>\n",
       "      <td>324</td>\n",
       "    </tr>\n",
       "    <tr>\n",
       "      <th>21</th>\n",
       "      <td>968</td>\n",
       "      <td>0.5</td>\n",
       "      <td>368</td>\n",
       "    </tr>\n",
       "    <tr>\n",
       "      <th>29</th>\n",
       "      <td>466</td>\n",
       "      <td>0.6</td>\n",
       "      <td>196</td>\n",
       "    </tr>\n",
       "  </tbody>\n",
       "</table>\n",
       "</div>"
      ],
      "text/plain": [
       "       w    v    c\n",
       "1    138  0.6  293\n",
       "2   1569  0.8  359\n",
       "3    672  0.7  298\n",
       "6   1215  0.7  278\n",
       "7   1292  0.6  360\n",
       "8    996  0.6  320\n",
       "11   716  0.7  214\n",
       "15  1534  0.9  377\n",
       "16  1066  0.6  351\n",
       "17   714  1.1  301\n",
       "18   278  1.0  386\n",
       "19   791  1.2  215\n",
       "20   255  1.0  324\n",
       "21   968  0.5  368\n",
       "29   466  0.6  196"
      ]
     },
     "execution_count": 27,
     "metadata": {},
     "output_type": "execute_result"
    }
   ],
   "source": [
    "indexes = [i for i, s in enumerate(sort_solutions(result_gen)[0]) if s]\n",
    "\n",
    "result = data.iloc[indexes,:]\n",
    "\n",
    "print(f\"W = {sum(result['w'])}\")\n",
    "print(f\"V = {round(sum(result['v']), 2)}\")\n",
    "print(f\"C = {sum(result['c'])}\")\n",
    "result"
   ]
  },
  {
   "cell_type": "code",
   "execution_count": null,
   "metadata": {},
   "outputs": [],
   "source": []
  }
 ],
 "metadata": {
  "kernelspec": {
   "display_name": "Python 3",
   "language": "python",
   "name": "python3"
  },
  "language_info": {
   "codemirror_mode": {
    "name": "ipython",
    "version": 3
   },
   "file_extension": ".py",
   "mimetype": "text/x-python",
   "name": "python",
   "nbconvert_exporter": "python",
   "pygments_lexer": "ipython3",
   "version": "3.7.9"
  }
 },
 "nbformat": 4,
 "nbformat_minor": 4
}
