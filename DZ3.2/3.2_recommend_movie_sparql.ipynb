{
 "cells": [
  {
   "cell_type": "markdown",
   "metadata": {},
   "source": [
    "# ДЗ 2.1 \n",
    "Шергалис Донат, 3530903/70301\n",
    "Вариант 39."
   ]
  },
  {
   "cell_type": "code",
   "execution_count": 1,
   "metadata": {},
   "outputs": [],
   "source": [
    "from SPARQLWrapper import SPARQLWrapper, JSON\n",
    "import requests\n",
    "import numpy as np\n",
    "import pandas as pd\n",
    "import matplotlib.pyplot as plt\n",
    "import itertools\n",
    "from operator import itemgetter \n",
    "import json\n",
    "\n",
    "\n",
    "%matplotlib inline"
   ]
  },
  {
   "cell_type": "code",
   "execution_count": 2,
   "metadata": {},
   "outputs": [],
   "source": [
    "is_test = False\n",
    "# is_test = True\n",
    "\n",
    "data_folder = 'test-data' if is_test else 'data'\n",
    "var = 1 if is_test else 22"
   ]
  },
  {
   "cell_type": "code",
   "execution_count": 3,
   "metadata": {
    "scrolled": true
   },
   "outputs": [
    {
     "data": {
      "text/html": [
       "<div>\n",
       "<style scoped>\n",
       "    .dataframe tbody tr th:only-of-type {\n",
       "        vertical-align: middle;\n",
       "    }\n",
       "\n",
       "    .dataframe tbody tr th {\n",
       "        vertical-align: top;\n",
       "    }\n",
       "\n",
       "    .dataframe thead th {\n",
       "        text-align: right;\n",
       "    }\n",
       "</style>\n",
       "<table border=\"1\" class=\"dataframe\">\n",
       "  <thead>\n",
       "    <tr style=\"text-align: right;\">\n",
       "      <th></th>\n",
       "      <th>Movie 1</th>\n",
       "      <th>Movie 2</th>\n",
       "      <th>Movie 3</th>\n",
       "      <th>Movie 4</th>\n",
       "      <th>Movie 5</th>\n",
       "      <th>Movie 6</th>\n",
       "      <th>Movie 7</th>\n",
       "      <th>Movie 8</th>\n",
       "      <th>Movie 9</th>\n",
       "      <th>Movie 10</th>\n",
       "      <th>...</th>\n",
       "      <th>Movie 21</th>\n",
       "      <th>Movie 22</th>\n",
       "      <th>Movie 23</th>\n",
       "      <th>Movie 24</th>\n",
       "      <th>Movie 25</th>\n",
       "      <th>Movie 26</th>\n",
       "      <th>Movie 27</th>\n",
       "      <th>Movie 28</th>\n",
       "      <th>Movie 29</th>\n",
       "      <th>Movie 30</th>\n",
       "    </tr>\n",
       "  </thead>\n",
       "  <tbody>\n",
       "    <tr>\n",
       "      <th>User 1</th>\n",
       "      <td>-1.0</td>\n",
       "      <td>4.0</td>\n",
       "      <td>1.0</td>\n",
       "      <td>5.0</td>\n",
       "      <td>-1.0</td>\n",
       "      <td>-1.0</td>\n",
       "      <td>-1.0</td>\n",
       "      <td>1.0</td>\n",
       "      <td>3.0</td>\n",
       "      <td>-1.0</td>\n",
       "      <td>...</td>\n",
       "      <td>2.0</td>\n",
       "      <td>4.0</td>\n",
       "      <td>-1.0</td>\n",
       "      <td>-1.0</td>\n",
       "      <td>3.0</td>\n",
       "      <td>4.0</td>\n",
       "      <td>-1.0</td>\n",
       "      <td>2.0</td>\n",
       "      <td>4.0</td>\n",
       "      <td>1.0</td>\n",
       "    </tr>\n",
       "    <tr>\n",
       "      <th>User 2</th>\n",
       "      <td>4.0</td>\n",
       "      <td>5.0</td>\n",
       "      <td>2.0</td>\n",
       "      <td>3.0</td>\n",
       "      <td>3.0</td>\n",
       "      <td>4.0</td>\n",
       "      <td>-1.0</td>\n",
       "      <td>5.0</td>\n",
       "      <td>3.0</td>\n",
       "      <td>2.0</td>\n",
       "      <td>...</td>\n",
       "      <td>-1.0</td>\n",
       "      <td>2.0</td>\n",
       "      <td>-1.0</td>\n",
       "      <td>3.0</td>\n",
       "      <td>1.0</td>\n",
       "      <td>5.0</td>\n",
       "      <td>-1.0</td>\n",
       "      <td>5.0</td>\n",
       "      <td>2.0</td>\n",
       "      <td>2.0</td>\n",
       "    </tr>\n",
       "    <tr>\n",
       "      <th>User 3</th>\n",
       "      <td>4.0</td>\n",
       "      <td>2.0</td>\n",
       "      <td>5.0</td>\n",
       "      <td>4.0</td>\n",
       "      <td>1.0</td>\n",
       "      <td>5.0</td>\n",
       "      <td>-1.0</td>\n",
       "      <td>3.0</td>\n",
       "      <td>5.0</td>\n",
       "      <td>2.0</td>\n",
       "      <td>...</td>\n",
       "      <td>4.0</td>\n",
       "      <td>-1.0</td>\n",
       "      <td>5.0</td>\n",
       "      <td>4.0</td>\n",
       "      <td>5.0</td>\n",
       "      <td>1.0</td>\n",
       "      <td>2.0</td>\n",
       "      <td>1.0</td>\n",
       "      <td>-1.0</td>\n",
       "      <td>3.0</td>\n",
       "    </tr>\n",
       "    <tr>\n",
       "      <th>User 4</th>\n",
       "      <td>5.0</td>\n",
       "      <td>-1.0</td>\n",
       "      <td>2.0</td>\n",
       "      <td>-1.0</td>\n",
       "      <td>-1.0</td>\n",
       "      <td>2.0</td>\n",
       "      <td>4.0</td>\n",
       "      <td>3.0</td>\n",
       "      <td>2.0</td>\n",
       "      <td>3.0</td>\n",
       "      <td>...</td>\n",
       "      <td>-1.0</td>\n",
       "      <td>2.0</td>\n",
       "      <td>2.0</td>\n",
       "      <td>2.0</td>\n",
       "      <td>2.0</td>\n",
       "      <td>5.0</td>\n",
       "      <td>3.0</td>\n",
       "      <td>2.0</td>\n",
       "      <td>5.0</td>\n",
       "      <td>5.0</td>\n",
       "    </tr>\n",
       "    <tr>\n",
       "      <th>User 5</th>\n",
       "      <td>4.0</td>\n",
       "      <td>3.0</td>\n",
       "      <td>3.0</td>\n",
       "      <td>3.0</td>\n",
       "      <td>5.0</td>\n",
       "      <td>3.0</td>\n",
       "      <td>3.0</td>\n",
       "      <td>4.0</td>\n",
       "      <td>5.0</td>\n",
       "      <td>2.0</td>\n",
       "      <td>...</td>\n",
       "      <td>4.0</td>\n",
       "      <td>5.0</td>\n",
       "      <td>2.0</td>\n",
       "      <td>-1.0</td>\n",
       "      <td>3.0</td>\n",
       "      <td>5.0</td>\n",
       "      <td>1.0</td>\n",
       "      <td>-1.0</td>\n",
       "      <td>5.0</td>\n",
       "      <td>-1.0</td>\n",
       "    </tr>\n",
       "  </tbody>\n",
       "</table>\n",
       "<p>5 rows × 30 columns</p>\n",
       "</div>"
      ],
      "text/plain": [
       "         Movie 1   Movie 2   Movie 3   Movie 4   Movie 5   Movie 6   Movie 7  \\\n",
       "User 1      -1.0       4.0       1.0       5.0      -1.0      -1.0      -1.0   \n",
       "User 2       4.0       5.0       2.0       3.0       3.0       4.0      -1.0   \n",
       "User 3       4.0       2.0       5.0       4.0       1.0       5.0      -1.0   \n",
       "User 4       5.0      -1.0       2.0      -1.0      -1.0       2.0       4.0   \n",
       "User 5       4.0       3.0       3.0       3.0       5.0       3.0       3.0   \n",
       "\n",
       "         Movie 8   Movie 9   Movie 10  ...   Movie 21   Movie 22   Movie 23  \\\n",
       "User 1       1.0       3.0       -1.0  ...        2.0        4.0       -1.0   \n",
       "User 2       5.0       3.0        2.0  ...       -1.0        2.0       -1.0   \n",
       "User 3       3.0       5.0        2.0  ...        4.0       -1.0        5.0   \n",
       "User 4       3.0       2.0        3.0  ...       -1.0        2.0        2.0   \n",
       "User 5       4.0       5.0        2.0  ...        4.0        5.0        2.0   \n",
       "\n",
       "         Movie 24   Movie 25   Movie 26   Movie 27   Movie 28   Movie 29  \\\n",
       "User 1       -1.0        3.0        4.0       -1.0        2.0        4.0   \n",
       "User 2        3.0        1.0        5.0       -1.0        5.0        2.0   \n",
       "User 3        4.0        5.0        1.0        2.0        1.0       -1.0   \n",
       "User 4        2.0        2.0        5.0        3.0        2.0        5.0   \n",
       "User 5       -1.0        3.0        5.0        1.0       -1.0        5.0   \n",
       "\n",
       "         Movie 30  \n",
       "User 1        1.0  \n",
       "User 2        2.0  \n",
       "User 3        3.0  \n",
       "User 4        5.0  \n",
       "User 5       -1.0  \n",
       "\n",
       "[5 rows x 30 columns]"
      ]
     },
     "execution_count": 3,
     "metadata": {},
     "output_type": "execute_result"
    }
   ],
   "source": [
    "data = pd.read_csv(data_folder + '/data.csv', index_col=0).astype(float)\n",
    "data.head()"
   ]
  },
  {
   "cell_type": "code",
   "execution_count": 4,
   "metadata": {},
   "outputs": [
    {
     "data": {
      "text/plain": [
       "id\n",
       "Movie 1                              The Shawshank Redemption\n",
       "Movie 2                                         The Godfather\n",
       "Movie 3                                The Godfather: Part II\n",
       "Movie 4                                       The Dark Knight\n",
       "Movie 5                                          12 Angry Men\n",
       "Movie 6                                      Schindler's List\n",
       "Movie 7         The Lord of the Rings: The Return of the King\n",
       "Movie 8                                          Pulp Fiction\n",
       "Movie 9                         The Good the Bad and the Ugly\n",
       "Movie 10                                           Fight Club\n",
       "Movie 11     The Lord of the Rings: The Fellowship of the ...\n",
       "Movie 12                                         Forrest Gump\n",
       "Movie 13       Star Wars: Episode V - The Empire Strikes Back\n",
       "Movie 14                                            Inception\n",
       "Movie 15                The Lord of the Rings: The Two Towers\n",
       "Movie 16                      One Flew Over the Cuckoo's Nest\n",
       "Movie 17                                           Goodfellas\n",
       "Movie 18                                           The Matrix\n",
       "Movie 19                                        Seven Samurai\n",
       "Movie 20                                          City of God\n",
       "Movie 21                                                Se7en\n",
       "Movie 22                   Star Wars: Episode IV - A New Hope\n",
       "Movie 23                             The Silence of the Lambs\n",
       "Movie 24                                It's a Wonderful Life\n",
       "Movie 25                                    Life Is Beautiful\n",
       "Movie 26                                   The Usual Suspects\n",
       "Movie 27                                        Spirited Away\n",
       "Movie 28                                  Saving Private Ryan\n",
       "Movie 29                               Leon: The Professional\n",
       "Movie 30                                       The Green Mile\n",
       "Name: name, dtype: object"
      ]
     },
     "execution_count": 4,
     "metadata": {},
     "output_type": "execute_result"
    }
   ],
   "source": [
    "movie_names = pd.read_csv(data_folder + '/movie_names.csv', index_col=0, names=['id', 'name'], squeeze = True)\n",
    "movie_names"
   ]
  },
  {
   "cell_type": "code",
   "execution_count": 5,
   "metadata": {
    "scrolled": true
   },
   "outputs": [
    {
     "data": {
      "text/html": [
       "<div>\n",
       "<style scoped>\n",
       "    .dataframe tbody tr th:only-of-type {\n",
       "        vertical-align: middle;\n",
       "    }\n",
       "\n",
       "    .dataframe tbody tr th {\n",
       "        vertical-align: top;\n",
       "    }\n",
       "\n",
       "    .dataframe thead th {\n",
       "        text-align: right;\n",
       "    }\n",
       "</style>\n",
       "<table border=\"1\" class=\"dataframe\">\n",
       "  <thead>\n",
       "    <tr style=\"text-align: right;\">\n",
       "      <th></th>\n",
       "      <th>Movie 1</th>\n",
       "      <th>Movie 2</th>\n",
       "      <th>Movie 3</th>\n",
       "      <th>Movie 4</th>\n",
       "      <th>Movie 5</th>\n",
       "      <th>Movie 6</th>\n",
       "      <th>Movie 7</th>\n",
       "      <th>Movie 8</th>\n",
       "      <th>Movie 9</th>\n",
       "      <th>Movie 10</th>\n",
       "      <th>...</th>\n",
       "      <th>Movie 21</th>\n",
       "      <th>Movie 22</th>\n",
       "      <th>Movie 23</th>\n",
       "      <th>Movie 24</th>\n",
       "      <th>Movie 25</th>\n",
       "      <th>Movie 26</th>\n",
       "      <th>Movie 27</th>\n",
       "      <th>Movie 28</th>\n",
       "      <th>Movie 29</th>\n",
       "      <th>Movie 30</th>\n",
       "    </tr>\n",
       "  </thead>\n",
       "  <tbody>\n",
       "    <tr>\n",
       "      <th>User 1</th>\n",
       "      <td>-1</td>\n",
       "      <td>Thu</td>\n",
       "      <td>Tue</td>\n",
       "      <td>Mon</td>\n",
       "      <td>-1</td>\n",
       "      <td>-1</td>\n",
       "      <td>-1</td>\n",
       "      <td>Tue</td>\n",
       "      <td>Sun</td>\n",
       "      <td>-1</td>\n",
       "      <td>...</td>\n",
       "      <td>Thu</td>\n",
       "      <td>Thu</td>\n",
       "      <td>-1</td>\n",
       "      <td>-1</td>\n",
       "      <td>Sun</td>\n",
       "      <td>Sat</td>\n",
       "      <td>-1</td>\n",
       "      <td>Wed</td>\n",
       "      <td>Wed</td>\n",
       "      <td>Thu</td>\n",
       "    </tr>\n",
       "    <tr>\n",
       "      <th>User 2</th>\n",
       "      <td>Mon</td>\n",
       "      <td>Wed</td>\n",
       "      <td>Mon</td>\n",
       "      <td>Sat</td>\n",
       "      <td>Sat</td>\n",
       "      <td>Thu</td>\n",
       "      <td>-1</td>\n",
       "      <td>Mon</td>\n",
       "      <td>Fri</td>\n",
       "      <td>Thu</td>\n",
       "      <td>...</td>\n",
       "      <td>-1</td>\n",
       "      <td>Sun</td>\n",
       "      <td>-1</td>\n",
       "      <td>Mon</td>\n",
       "      <td>Mon</td>\n",
       "      <td>Fri</td>\n",
       "      <td>-1</td>\n",
       "      <td>Sun</td>\n",
       "      <td>Tue</td>\n",
       "      <td>Wed</td>\n",
       "    </tr>\n",
       "    <tr>\n",
       "      <th>User 3</th>\n",
       "      <td>Tue</td>\n",
       "      <td>Wed</td>\n",
       "      <td>Sat</td>\n",
       "      <td>Tue</td>\n",
       "      <td>Sat</td>\n",
       "      <td>Mon</td>\n",
       "      <td>-1</td>\n",
       "      <td>Thu</td>\n",
       "      <td>Wed</td>\n",
       "      <td>Thu</td>\n",
       "      <td>...</td>\n",
       "      <td>Tue</td>\n",
       "      <td>-1</td>\n",
       "      <td>Wed</td>\n",
       "      <td>Thu</td>\n",
       "      <td>Tue</td>\n",
       "      <td>Thu</td>\n",
       "      <td>Wed</td>\n",
       "      <td>Wed</td>\n",
       "      <td>-1</td>\n",
       "      <td>Sun</td>\n",
       "    </tr>\n",
       "    <tr>\n",
       "      <th>User 4</th>\n",
       "      <td>Mon</td>\n",
       "      <td>-1</td>\n",
       "      <td>Wed</td>\n",
       "      <td>-1</td>\n",
       "      <td>-1</td>\n",
       "      <td>Sun</td>\n",
       "      <td>Sat</td>\n",
       "      <td>Mon</td>\n",
       "      <td>Mon</td>\n",
       "      <td>Wed</td>\n",
       "      <td>...</td>\n",
       "      <td>-1</td>\n",
       "      <td>Sun</td>\n",
       "      <td>Fri</td>\n",
       "      <td>Sat</td>\n",
       "      <td>Thu</td>\n",
       "      <td>Sat</td>\n",
       "      <td>Fri</td>\n",
       "      <td>Fri</td>\n",
       "      <td>Sat</td>\n",
       "      <td>Sun</td>\n",
       "    </tr>\n",
       "    <tr>\n",
       "      <th>User 5</th>\n",
       "      <td>Thu</td>\n",
       "      <td>Fri</td>\n",
       "      <td>Wed</td>\n",
       "      <td>Fri</td>\n",
       "      <td>Mon</td>\n",
       "      <td>Thu</td>\n",
       "      <td>Sat</td>\n",
       "      <td>Tue</td>\n",
       "      <td>Thu</td>\n",
       "      <td>Fri</td>\n",
       "      <td>...</td>\n",
       "      <td>Fri</td>\n",
       "      <td>Fri</td>\n",
       "      <td>Mon</td>\n",
       "      <td>-1</td>\n",
       "      <td>Wed</td>\n",
       "      <td>Mon</td>\n",
       "      <td>Sat</td>\n",
       "      <td>-1</td>\n",
       "      <td>Wed</td>\n",
       "      <td>-1</td>\n",
       "    </tr>\n",
       "  </tbody>\n",
       "</table>\n",
       "<p>5 rows × 30 columns</p>\n",
       "</div>"
      ],
      "text/plain": [
       "        Movie 1  Movie 2  Movie 3  Movie 4  Movie 5  Movie 6  Movie 7  \\\n",
       "User 1       -1      Thu      Tue      Mon       -1       -1       -1   \n",
       "User 2      Mon      Wed      Mon      Sat      Sat      Thu       -1   \n",
       "User 3      Tue      Wed      Sat      Tue      Sat      Mon       -1   \n",
       "User 4      Mon       -1      Wed       -1       -1      Sun      Sat   \n",
       "User 5      Thu      Fri      Wed      Fri      Mon      Thu      Sat   \n",
       "\n",
       "        Movie 8  Movie 9  Movie 10  ...  Movie 21  Movie 22  Movie 23  \\\n",
       "User 1      Tue      Sun        -1  ...       Thu       Thu        -1   \n",
       "User 2      Mon      Fri       Thu  ...        -1       Sun        -1   \n",
       "User 3      Thu      Wed       Thu  ...       Tue        -1       Wed   \n",
       "User 4      Mon      Mon       Wed  ...        -1       Sun       Fri   \n",
       "User 5      Tue      Thu       Fri  ...       Fri       Fri       Mon   \n",
       "\n",
       "        Movie 24  Movie 25  Movie 26  Movie 27  Movie 28  Movie 29  Movie 30  \n",
       "User 1        -1       Sun       Sat        -1       Wed       Wed       Thu  \n",
       "User 2       Mon       Mon       Fri        -1       Sun       Tue       Wed  \n",
       "User 3       Thu       Tue       Thu       Wed       Wed        -1       Sun  \n",
       "User 4       Sat       Thu       Sat       Fri       Fri       Sat       Sun  \n",
       "User 5        -1       Wed       Mon       Sat        -1       Wed        -1  \n",
       "\n",
       "[5 rows x 30 columns]"
      ]
     },
     "execution_count": 5,
     "metadata": {},
     "output_type": "execute_result"
    }
   ],
   "source": [
    "weekdays = ['Mon', 'Tue', 'Wed', 'Thu', 'Fri', 'Sat', 'Sun']\n",
    "context_day = pd.read_csv(data_folder + '/context_day.csv', index_col=0)\n",
    "context_day.head()"
   ]
  },
  {
   "cell_type": "code",
   "execution_count": 6,
   "metadata": {},
   "outputs": [
    {
     "data": {
      "text/html": [
       "<div>\n",
       "<style scoped>\n",
       "    .dataframe tbody tr th:only-of-type {\n",
       "        vertical-align: middle;\n",
       "    }\n",
       "\n",
       "    .dataframe tbody tr th {\n",
       "        vertical-align: top;\n",
       "    }\n",
       "\n",
       "    .dataframe thead th {\n",
       "        text-align: right;\n",
       "    }\n",
       "</style>\n",
       "<table border=\"1\" class=\"dataframe\">\n",
       "  <thead>\n",
       "    <tr style=\"text-align: right;\">\n",
       "      <th></th>\n",
       "      <th>Movie 1</th>\n",
       "      <th>Movie 2</th>\n",
       "      <th>Movie 3</th>\n",
       "      <th>Movie 4</th>\n",
       "      <th>Movie 5</th>\n",
       "      <th>Movie 6</th>\n",
       "      <th>Movie 7</th>\n",
       "      <th>Movie 8</th>\n",
       "      <th>Movie 9</th>\n",
       "      <th>Movie 10</th>\n",
       "      <th>...</th>\n",
       "      <th>Movie 21</th>\n",
       "      <th>Movie 22</th>\n",
       "      <th>Movie 23</th>\n",
       "      <th>Movie 24</th>\n",
       "      <th>Movie 25</th>\n",
       "      <th>Movie 26</th>\n",
       "      <th>Movie 27</th>\n",
       "      <th>Movie 28</th>\n",
       "      <th>Movie 29</th>\n",
       "      <th>Movie 30</th>\n",
       "    </tr>\n",
       "    <tr>\n",
       "      <th></th>\n",
       "      <th></th>\n",
       "      <th></th>\n",
       "      <th></th>\n",
       "      <th></th>\n",
       "      <th></th>\n",
       "      <th></th>\n",
       "      <th></th>\n",
       "      <th></th>\n",
       "      <th></th>\n",
       "      <th></th>\n",
       "      <th></th>\n",
       "      <th></th>\n",
       "      <th></th>\n",
       "      <th></th>\n",
       "      <th></th>\n",
       "      <th></th>\n",
       "      <th></th>\n",
       "      <th></th>\n",
       "      <th></th>\n",
       "      <th></th>\n",
       "      <th></th>\n",
       "    </tr>\n",
       "  </thead>\n",
       "  <tbody>\n",
       "    <tr>\n",
       "      <th>User 1</th>\n",
       "      <td>-1</td>\n",
       "      <td>h</td>\n",
       "      <td>h</td>\n",
       "      <td>c</td>\n",
       "      <td>-1</td>\n",
       "      <td>-1</td>\n",
       "      <td>-1</td>\n",
       "      <td>v</td>\n",
       "      <td>h</td>\n",
       "      <td>-1</td>\n",
       "      <td>...</td>\n",
       "      <td>h</td>\n",
       "      <td>c</td>\n",
       "      <td>-1</td>\n",
       "      <td>-1</td>\n",
       "      <td>c</td>\n",
       "      <td>c</td>\n",
       "      <td>-1</td>\n",
       "      <td>v</td>\n",
       "      <td>h</td>\n",
       "      <td>c</td>\n",
       "    </tr>\n",
       "    <tr>\n",
       "      <th>User 2</th>\n",
       "      <td>v</td>\n",
       "      <td>v</td>\n",
       "      <td>v</td>\n",
       "      <td>v</td>\n",
       "      <td>h</td>\n",
       "      <td>c</td>\n",
       "      <td>-1</td>\n",
       "      <td>v</td>\n",
       "      <td>h</td>\n",
       "      <td>c</td>\n",
       "      <td>...</td>\n",
       "      <td>-1</td>\n",
       "      <td>c</td>\n",
       "      <td>-1</td>\n",
       "      <td>c</td>\n",
       "      <td>h</td>\n",
       "      <td>v</td>\n",
       "      <td>-1</td>\n",
       "      <td>v</td>\n",
       "      <td>v</td>\n",
       "      <td>c</td>\n",
       "    </tr>\n",
       "    <tr>\n",
       "      <th>User 3</th>\n",
       "      <td>v</td>\n",
       "      <td>h</td>\n",
       "      <td>c</td>\n",
       "      <td>c</td>\n",
       "      <td>c</td>\n",
       "      <td>c</td>\n",
       "      <td>-1</td>\n",
       "      <td>h</td>\n",
       "      <td>c</td>\n",
       "      <td>v</td>\n",
       "      <td>...</td>\n",
       "      <td>v</td>\n",
       "      <td>-1</td>\n",
       "      <td>v</td>\n",
       "      <td>v</td>\n",
       "      <td>h</td>\n",
       "      <td>h</td>\n",
       "      <td>h</td>\n",
       "      <td>v</td>\n",
       "      <td>-1</td>\n",
       "      <td>v</td>\n",
       "    </tr>\n",
       "    <tr>\n",
       "      <th>User 4</th>\n",
       "      <td>v</td>\n",
       "      <td>-1</td>\n",
       "      <td>h</td>\n",
       "      <td>-1</td>\n",
       "      <td>-1</td>\n",
       "      <td>h</td>\n",
       "      <td>v</td>\n",
       "      <td>v</td>\n",
       "      <td>c</td>\n",
       "      <td>h</td>\n",
       "      <td>...</td>\n",
       "      <td>-1</td>\n",
       "      <td>v</td>\n",
       "      <td>h</td>\n",
       "      <td>h</td>\n",
       "      <td>c</td>\n",
       "      <td>v</td>\n",
       "      <td>c</td>\n",
       "      <td>v</td>\n",
       "      <td>v</td>\n",
       "      <td>c</td>\n",
       "    </tr>\n",
       "    <tr>\n",
       "      <th>User 5</th>\n",
       "      <td>c</td>\n",
       "      <td>c</td>\n",
       "      <td>c</td>\n",
       "      <td>c</td>\n",
       "      <td>v</td>\n",
       "      <td>h</td>\n",
       "      <td>v</td>\n",
       "      <td>v</td>\n",
       "      <td>c</td>\n",
       "      <td>h</td>\n",
       "      <td>...</td>\n",
       "      <td>v</td>\n",
       "      <td>c</td>\n",
       "      <td>v</td>\n",
       "      <td>-1</td>\n",
       "      <td>h</td>\n",
       "      <td>c</td>\n",
       "      <td>v</td>\n",
       "      <td>-1</td>\n",
       "      <td>h</td>\n",
       "      <td>-1</td>\n",
       "    </tr>\n",
       "  </tbody>\n",
       "</table>\n",
       "<p>5 rows × 30 columns</p>\n",
       "</div>"
      ],
      "text/plain": [
       "        Movie 1  Movie 2  Movie 3  Movie 4  Movie 5  Movie 6  Movie 7  \\\n",
       "                                                                        \n",
       "User 1       -1        h        h        c       -1       -1       -1   \n",
       "User 2        v        v        v        v        h        c       -1   \n",
       "User 3        v        h        c        c        c        c       -1   \n",
       "User 4        v       -1        h       -1       -1        h        v   \n",
       "User 5        c        c        c        c        v        h        v   \n",
       "\n",
       "        Movie 8  Movie 9  Movie 10  ...  Movie 21  Movie 22  Movie 23  \\\n",
       "                                    ...                                 \n",
       "User 1        v        h        -1  ...         h         c        -1   \n",
       "User 2        v        h         c  ...        -1         c        -1   \n",
       "User 3        h        c         v  ...         v        -1         v   \n",
       "User 4        v        c         h  ...        -1         v         h   \n",
       "User 5        v        c         h  ...         v         c         v   \n",
       "\n",
       "        Movie 24  Movie 25  Movie 26  Movie 27  Movie 28  Movie 29  Movie 30  \n",
       "                                                                              \n",
       "User 1        -1         c         c        -1         v         h         c  \n",
       "User 2         c         h         v        -1         v         v         c  \n",
       "User 3         v         h         h         h         v        -1         v  \n",
       "User 4         h         c         v         c         v         v         c  \n",
       "User 5        -1         h         c         v        -1         h        -1  \n",
       "\n",
       "[5 rows x 30 columns]"
      ]
     },
     "execution_count": 6,
     "metadata": {},
     "output_type": "execute_result"
    }
   ],
   "source": [
    "# h = дома\n",
    "# c = кинотеатр\n",
    "# v = в гостях\n",
    "context_place = pd.read_csv(data_folder + '/context_place.csv', index_col=0)\n",
    "context_place.head()"
   ]
  },
  {
   "cell_type": "code",
   "execution_count": 7,
   "metadata": {},
   "outputs": [],
   "source": [
    "k = 4\n",
    "round_to = 3\n",
    "\n",
    "films_count = len(data.T)\n",
    "films_names = data.columns\n",
    "\n",
    "users_count = len(data)\n",
    "users_names = data.T.columns\n",
    "\n",
    "user_name = users_names[var - 1]\n",
    "# assert user_name == 'User 39'\n",
    "\n",
    "# Получить строчку для нашего пользователя\n",
    "def for_user(u_name = user_name, data = data):\n",
    "    return data.T[u_name]"
   ]
  },
  {
   "cell_type": "markdown",
   "metadata": {},
   "source": [
    "## Задание 1. \n",
    "\n",
    "Для заданного пользователя (совпадает с вашим номером в таблице) рассчитать оценки для всех фильмов, которые он не оценил."
   ]
  },
  {
   "cell_type": "markdown",
   "metadata": {},
   "source": [
    "В качестве метрики сходства использовать метрику косинуса:  \n",
    "$ sim_{u,v} = \\frac { \\sum_i{u_i v_i} } { \\sum_i{u_i^2} * \\sum_i{v_i^2} }  $\n",
    "\n",
    "$ u_i $ - оценка пользователя u для фильма i,  \n",
    "$ u_i $ - оценка пользователя v для фильма i  "
   ]
  },
  {
   "cell_type": "code",
   "execution_count": 8,
   "metadata": {},
   "outputs": [],
   "source": [
    "# sim для пары пользователей\n",
    "def get_sim(u_name, v_name = user_name, data = data):\n",
    "    u = for_user(u_name, data)\n",
    "    v = for_user(v_name, data)\n",
    "    return calc_sim(u, v)\n",
    "\n",
    "# sim для пары массивов\n",
    "def calc_sim(u, v):\n",
    "    sum_top = 0\n",
    "    sum_bottom_first = 0\n",
    "    sum_bottom_second = 0\n",
    "    \n",
    "    for i in range(len(u)):\n",
    "        if u[i] > 0 and v[i] > 0:\n",
    "            sum_top += u[i] * v[i]\n",
    "            sum_bottom_first += u[i] ** 2\n",
    "            sum_bottom_second += v[i] ** 2\n",
    "\n",
    "    if (sum_top == 0): return 0\n",
    "    return round(sum_top / (np.sqrt(sum_bottom_first) * np.sqrt(sum_bottom_second)), round_to)"
   ]
  },
  {
   "cell_type": "code",
   "execution_count": 9,
   "metadata": {},
   "outputs": [],
   "source": [
    "# test calc_sim\n",
    "a = [3, 5, -1,  5]\n",
    "b = [3, 4,  5, -1]\n",
    "expected = ((3 * 3) + (5 * 4)) / (((3**2 + 5**2)**0.5) * ((3**2 + 4**2)**0.5))\n",
    "actual = calc_sim(a, b)\n",
    "assert expected - actual < 1e-09\n",
    "assert 1 - calc_sim(a, a) < 1e-09\n",
    "# /test"
   ]
  },
  {
   "cell_type": "code",
   "execution_count": 10,
   "metadata": {},
   "outputs": [
    {
     "name": "stdout",
     "output_type": "stream",
     "text": [
      "[('User 12', 0.932), ('User 26', 0.93), ('User 38', 0.924), ('User 5', 0.917)]\n"
     ]
    }
   ],
   "source": [
    "sim = {}\n",
    "for u_name in users_names:\n",
    "    sim[u_name] = get_sim(u_name)\n",
    "\n",
    "sorted_sim = sorted(sim.items(), key = itemgetter(1), reverse = True)[1:]\n",
    "# Самые похожие пользователи:\n",
    "print(sorted_sim[:4])\n",
    "closest_users = [name for name, sim in sorted_sim[:4]]"
   ]
  },
  {
   "cell_type": "markdown",
   "metadata": {},
   "source": [
    "Рассчёт оценки $ r_{ui} $ пользователя $ u $ для фильма $ i $ :  \n",
    "$ r_{ui} = r_u + \\frac{ \\sum_v^k{sim_{vu}} \\cdot (r_{vi} - r_v) }{ \\sum_v^k {|sim_{vu}|} } $  \n",
    "\n",
    "$ r $ - рассчитываемая оценка,  \n",
    "$ r_u $ - средняя оценка у пользователя u,  \n",
    "$ r_v $ - средняя оценка у пользователя v,   \n",
    "$ r_{vi} $ - оценка пользователя v для фильма i,  \n",
    "$ sim_{vu} $ - значение метрики сходства для пользователей u и v"
   ]
  },
  {
   "cell_type": "code",
   "execution_count": 11,
   "metadata": {},
   "outputs": [],
   "source": [
    "def get_rate(film_name, u_name = user_name, data = data):\n",
    "    return for_user(u_name, data)[film_name]\n",
    "\n",
    "# 0..k имён пользователей с оценками для film_name с наибольшими sim\n",
    "def get_k_closest_for_film(film_name, closest_users = closest_users, k = k, data = data):\n",
    "    return [u_name for u_name in closest_users if get_rate(film_name, u_name, data) != -1]"
   ]
  },
  {
   "cell_type": "code",
   "execution_count": 12,
   "metadata": {},
   "outputs": [],
   "source": [
    "# test get_k_closest_for_film \n",
    "c = ['u1', 'u2']\n",
    "d = pd.DataFrame.from_dict({ 'm1': { 'u1':-1, 'u2':3 }, 'm2': { 'u1':5, 'u2':-1 } })\n",
    "expected = ['u1']\n",
    "actual = get_k_closest_for_film('m2', c, 2, d)\n",
    "assert expected == actual\n",
    "# /test get_k_closest_for_film"
   ]
  },
  {
   "cell_type": "code",
   "execution_count": 13,
   "metadata": {},
   "outputs": [],
   "source": [
    "# получить среднюю оценку пользователя\n",
    "def get_avg(u_name = user_name, data = data):\n",
    "    all_rates = for_user(u_name, data)\n",
    "    existing_rates = [rate for rate in all_rates if rate != -1]\n",
    "    return np.average(existing_rates)"
   ]
  },
  {
   "cell_type": "code",
   "execution_count": 14,
   "metadata": {},
   "outputs": [],
   "source": [
    "# test get_avg\n",
    "d = pd.DataFrame.from_dict({ 'm1': { 'u1':-1, 'u2':3 }, 'm2': { 'u1':5, 'u2':-1 } })\n",
    "expected = 3\n",
    "actual = get_avg('u2', d)\n",
    "assert expected == actual\n",
    "# /test get_avg"
   ]
  },
  {
   "cell_type": "code",
   "execution_count": 15,
   "metadata": {},
   "outputs": [],
   "source": [
    "# r_ui пользователя u и фильма i\n",
    "def calc_rate(film_name, u_name = user_name, sim = sim, data = data):\n",
    "    u_avg = get_avg(u_name, data)\n",
    "    \n",
    "    sum_top = 0\n",
    "    closest_for_film = get_k_closest_for_film(film_name)\n",
    "    for v_name in closest_for_film:\n",
    "        r_vi = for_user(v_name)[film_name]\n",
    "        if v_name != u_name and r_vi != -1:\n",
    "            r_v = get_avg(v_name)\n",
    "            sum_top += sim[v_name] * (r_vi - r_v)\n",
    "    \n",
    "    sum_bottom = np.sum([sim[v_name] for v_name in closest_for_film if v_name != u_name])\n",
    "    \n",
    "    return round(u_avg + sum_top / sum_bottom, round_to)"
   ]
  },
  {
   "cell_type": "code",
   "execution_count": 16,
   "metadata": {},
   "outputs": [],
   "source": [
    "user_rates = for_user()\n",
    "predicted_rates = {}\n",
    "for film_name in films_names:\n",
    "    if user_rates[film_name] < 0:\n",
    "        predicted_rates[film_name] = round(calc_rate(film_name), round_to)"
   ]
  },
  {
   "cell_type": "code",
   "execution_count": 17,
   "metadata": {},
   "outputs": [
    {
     "name": "stdout",
     "output_type": "stream",
     "text": [
      " Movie 4\tpredicted: 3.476\t The Dark Knight\n",
      " Movie 6\tpredicted: 2.807\t Schindler's List\n",
      " Movie 17\tpredicted: 1.448\t Goodfellas\n",
      " Movie 18\tpredicted: 3.701\t The Matrix\n",
      " Movie 24\tpredicted: 4.834\t It's a Wonderful Life\n",
      " Movie 25\tpredicted: 2.198\t Life Is Beautiful\n",
      " Movie 30\tpredicted: 4.295\t The Green Mile\n"
     ]
    }
   ],
   "source": [
    "for film_name, rating in predicted_rates.items():\n",
    "    print(f\"{film_name}\\tpredicted: {predicted_rates[film_name]}\\t{movie_names[film_name.strip()]}\")"
   ]
  },
  {
   "cell_type": "markdown",
   "metadata": {},
   "source": [
    "## Задание 2. \n",
    "Порекомендовать заданному пользователю 1 фильм, который он посмотрел бы в выходной дома, если такой фильм есть в данных."
   ]
  },
  {
   "cell_type": "markdown",
   "metadata": {},
   "source": [
    "### Описание алгоритма\n",
    "Для этого для каждого не посмотренного фильма нашего пользователя посчитаем некий вес рекомендации другого пользователя knn:  \n",
    "* 1, если совпали с требуемыми время И место просмотра  \n",
    "* t, если совпали время ИЛИ место просмотра  \n",
    "* 0, если смотрел в другое время в другом месте\n",
    "* -1, если пользователь не смотрел этот фильм\n",
    "\n",
    "Для каждого фильма посчитаем среднее между всеми неотрицательными весами и выберем фильм с наибольшим ненулевым средним. Если такого не окажется, то рекомендации не будет.\n",
    "\n",
    "Можно игнорировать \"нестрогие\" совпадения, установив для t значение -1.  \n",
    "Можно считать \"нестрогие\" совпадения несовпадениями, установив для t значение 0."
   ]
  },
  {
   "cell_type": "markdown",
   "metadata": {},
   "source": [
    "### Описание алгоритма более человеческим языком:  \n",
    "Возьмём \"друзей\" нашего пользователя. Начнём перебирать фильмы -- если \"друг\" смотрел фильм:\n",
    "* в нужное время в нужном месте, добавим 1\n",
    "* в нужное время ИЛИ в нужном месте, добавим t (если t >= 0)\n",
    "* в другое время И в другом месте, добавим 0\n",
    "* не смотрел совсем, ничего не добавим\n",
    "\n",
    "Посчитаем среднее, выберем фильм с максимальным ненулевым средним.\n",
    "Если такого нет, то рекомендации не будет.\n",
    "\n",
    "В зависимости от того, насколько релевантными мы считаем совпадения (время ИЛИ места), можем менять значение t от 0 до 1, или установить значение -1, чтобы их игнорировать вовсе."
   ]
  },
  {
   "cell_type": "code",
   "execution_count": 18,
   "metadata": {},
   "outputs": [
    {
     "name": "stdout",
     "output_type": "stream",
     "text": [
      "Searching films to watch at  ['h']  on  ['Sat', 'Sun']\n"
     ]
    }
   ],
   "source": [
    "watch_where = ['h']\n",
    "watch_when = weekdays[5:]\n",
    "print('Searching films to watch at ', watch_where, \" on \", watch_when)\n",
    "\n",
    "t = 0.3"
   ]
  },
  {
   "cell_type": "code",
   "execution_count": null,
   "metadata": {},
   "outputs": [],
   "source": []
  },
  {
   "cell_type": "code",
   "execution_count": 19,
   "metadata": {},
   "outputs": [],
   "source": [
    "# верни 1, если совпали день И место\n",
    "# верни t, если совпал день ИЛИ место\n",
    "def get_context_weight(film_name, user_name, watch_where = watch_where, watch_when = watch_when, t = t, context_place = context_place, context_day = context_day):\n",
    "    place_match = for_user(user_name, context_place)[film_name].strip() in watch_where\n",
    "    day_match = for_user(user_name, context_day)[film_name].strip() in watch_when\n",
    "    return 1 if place_match and day_match \\\n",
    "        else t if place_match or day_match \\\n",
    "        else 0"
   ]
  },
  {
   "cell_type": "code",
   "execution_count": 20,
   "metadata": {},
   "outputs": [
    {
     "data": {
      "text/plain": [
       "{' Movie 4': [-0.0, 0.0, 3.696, 0.0],\n",
       " ' Movie 6': [-0.0, 0.558, 0.832, 0.825],\n",
       " ' Movie 17': [0.0, 0.55],\n",
       " ' Movie 18': [1.398, 0.837, 1.109, 0.0],\n",
       " ' Movie 24': [1.398, 4.65, -0.0, -0.0],\n",
       " ' Movie 25': [0.0, 0.558, 0.825],\n",
       " ' Movie 30': [0.0, -0.0, 1.109, -0.0]}"
      ]
     },
     "execution_count": 20,
     "metadata": {},
     "output_type": "execute_result"
    }
   ],
   "source": [
    "films_weights = {}\n",
    "\n",
    "for film_name, predicted_rate in predicted_rates.items():\n",
    "    get_context_weight_for_this = lambda user_name :\\\n",
    "                                    get_context_weight(film_name, user_name, watch_where, watch_when)\n",
    "    film_rates = data[film_name]\n",
    "    films_weights[film_name] = []\n",
    "    for friend_name in closest_users:\n",
    "        if film_rates[friend_name] != 1:\n",
    "            weight = film_rates[friend_name] * sim[friend_name] * get_context_weight_for_this(friend_name)\n",
    "            \n",
    "            if weight >= 0: films_weights[film_name].append(round(weight, round_to))\n",
    "            \n",
    "films_weights"
   ]
  },
  {
   "cell_type": "code",
   "execution_count": 21,
   "metadata": {},
   "outputs": [
    {
     "data": {
      "text/plain": [
       "{' Movie 4': 0.924,\n",
       " ' Movie 6': 0.554,\n",
       " ' Movie 17': 0.275,\n",
       " ' Movie 18': 0.836,\n",
       " ' Movie 24': 1.512,\n",
       " ' Movie 25': 0.461,\n",
       " ' Movie 30': 0.277}"
      ]
     },
     "execution_count": 21,
     "metadata": {},
     "output_type": "execute_result"
    }
   ],
   "source": [
    "films_weights_total = {film_name: round(np.average(weights), round_to) for film_name, weights in films_weights.items()}\n",
    "films_weights_total"
   ]
  },
  {
   "cell_type": "code",
   "execution_count": 22,
   "metadata": {},
   "outputs": [
    {
     "name": "stdout",
     "output_type": "stream",
     "text": [
      "Recomendation for User 22 ['h'] ['Sat', 'Sun'] :\n",
      "\t  Movie 24 (It's a Wonderful Life)\n"
     ]
    }
   ],
   "source": [
    "\n",
    "print('Recomendation for', user_name, watch_where, watch_when, ':')\n",
    "if (max(films_weights_total.values()) > 0):\n",
    "    recomendation = max(films_weights_total, key=films_weights_total.get)\n",
    "    recomendation_name = movie_names[recomendation.strip()].strip()\n",
    "    \n",
    "    print(f'\\t {recomendation} ({recomendation_name})')\n",
    "else: \n",
    "    recomendation = None\n",
    "    print('\\t', None)"
   ]
  },
  {
   "cell_type": "markdown",
   "metadata": {},
   "source": [
    "## Вывод "
   ]
  },
  {
   "cell_type": "code",
   "execution_count": 23,
   "metadata": {},
   "outputs": [],
   "source": [
    "predicted_rates_striped = { film.strip(): rate for film, rate in predicted_rates.items() }"
   ]
  },
  {
   "cell_type": "code",
   "execution_count": 24,
   "metadata": {},
   "outputs": [
    {
     "name": "stdout",
     "output_type": "stream",
     "text": [
      "{\n",
      "  \"user\": 22,\n",
      "  \"1\": {\n",
      "    \"Movie 4\": 3.476,\n",
      "    \"Movie 6\": 2.807,\n",
      "    \"Movie 17\": 1.448,\n",
      "    \"Movie 18\": 3.701,\n",
      "    \"Movie 24\": 4.834,\n",
      "    \"Movie 25\": 2.198,\n",
      "    \"Movie 30\": 4.295\n",
      "  },\n",
      "  \"2\": {\n",
      "    \"Movie 24\": 4.834\n",
      "  }\n",
      "}\n"
     ]
    }
   ],
   "source": [
    "output = {\n",
    "    \"user\": var,\n",
    "    \"1\": predicted_rates_striped,\n",
    "    \"2\": { recomendation.strip(): predicted_rates[recomendation]} if recomendation else None\n",
    "}\n",
    "\n",
    "output_json=json.dumps(output, indent = 2)\n",
    "print(output_json)"
   ]
  },
  {
   "cell_type": "code",
   "execution_count": 25,
   "metadata": {},
   "outputs": [],
   "source": [
    "with open('shergalis_2.1.json', 'w') as outfile:\n",
    "    outfile.write(output_json)"
   ]
  },
  {
   "cell_type": "code",
   "execution_count": null,
   "metadata": {},
   "outputs": [],
   "source": []
  },
  {
   "cell_type": "markdown",
   "metadata": {},
   "source": [
    "# 3.2 SPARQL-запрос\n"
   ]
  },
  {
   "cell_type": "code",
   "execution_count": 26,
   "metadata": {
    "scrolled": false
   },
   "outputs": [
    {
     "data": {
      "text/plain": [
       "['The Dark Knight',\n",
       " \"Schindler's List\",\n",
       " 'Goodfellas',\n",
       " 'The Matrix',\n",
       " \"It's a Wonderful Life\",\n",
       " 'Life Is Beautiful',\n",
       " 'The Green Mile']"
      ]
     },
     "execution_count": 26,
     "metadata": {},
     "output_type": "execute_result"
    }
   ],
   "source": [
    "film_names = [movie_names[film_name.strip()].strip() for film_name in predicted_rates.keys()]\n",
    "film_names"
   ]
  },
  {
   "cell_type": "code",
   "execution_count": 27,
   "metadata": {},
   "outputs": [],
   "source": [
    "api = \"https://www.wikidata.org/w/api.php\"\n",
    "\n",
    "def get_wd_by_name(name):\n",
    "    params = {\n",
    "        'action' : 'wbsearchentities',\n",
    "        'format' : 'json',\n",
    "        'language' : 'en',\n",
    "        'search': name\n",
    "    }\n",
    "    res = requests.get(api, params = params)\n",
    "    \n",
    "    for res in res.json()['search']:\n",
    "        if \"film\" in res['description']:\n",
    "            return res['id']\n",
    "\n",
    "    raise f\"Film {name} not found!\" + res.json()"
   ]
  },
  {
   "cell_type": "code",
   "execution_count": 28,
   "metadata": {},
   "outputs": [
    {
     "data": {
      "text/plain": [
       "{'The Dark Knight': 'Q163872',\n",
       " \"Schindler's List\": 'Q483941',\n",
       " 'Goodfellas': 'Q42047',\n",
       " 'The Matrix': 'Q83495',\n",
       " \"It's a Wonderful Life\": 'Q204191',\n",
       " 'Life Is Beautiful': 'Q19355',\n",
       " 'The Green Mile': 'Q208263'}"
      ]
     },
     "execution_count": 28,
     "metadata": {},
     "output_type": "execute_result"
    }
   ],
   "source": [
    "film_wd = {name:get_wd_by_name(name) for name in film_names}\n",
    "film_wd"
   ]
  },
  {
   "cell_type": "code",
   "execution_count": 29,
   "metadata": {},
   "outputs": [],
   "source": [
    "sparql = SPARQLWrapper(\"https://query.wikidata.org/sparql\")\n",
    "\n",
    "query_template = \"\"\"\n",
    "# query for film: '$FILM_NAME$'\n",
    "SELECT ?title ?screenwriterLabel ?screenwriterEducationLabel ?screenwriterEducationLocation\n",
    "WHERE {\n",
    "         \n",
    "  wd:$FILM_WD$ wdt:P1476 ?title;\n",
    "               wdt:P58 ?screenwriter.\n",
    "  ?screenwriter wdt:P69 ?screenwriterEducation.\n",
    "  ?screenwriterEducation wdt:P625 ?screenwriterEducationLocation.\n",
    "\n",
    "  SERVICE wikibase:label { bd:serviceParam wikibase:language \"ru,en\". }\n",
    "}\n",
    "\"\"\""
   ]
  },
  {
   "cell_type": "code",
   "execution_count": 30,
   "metadata": {},
   "outputs": [],
   "source": [
    "queries = { name:query_template\n",
    "           .replace(\"$FILM_WD$\", wd)\n",
    "           .replace(\"$FILM_NAME$\", name) \n",
    "           for name, wd in film_wd.items() }"
   ]
  },
  {
   "cell_type": "code",
   "execution_count": 31,
   "metadata": {},
   "outputs": [],
   "source": [
    "def execute_query(query):\n",
    "    sparql.setQuery(query)\n",
    "    sparql.setReturnFormat(JSON)\n",
    "    return sparql.query().convert()"
   ]
  },
  {
   "cell_type": "code",
   "execution_count": 32,
   "metadata": {},
   "outputs": [],
   "source": [
    "queries_results = {name:execute_query(query) for name, query in queries.items()}"
   ]
  },
  {
   "cell_type": "code",
   "execution_count": 33,
   "metadata": {},
   "outputs": [],
   "source": [
    "pd_results = {name:pd.json_normalize(result['results']['bindings']) for name, result in queries_results.items()}"
   ]
  },
  {
   "cell_type": "code",
   "execution_count": 34,
   "metadata": {},
   "outputs": [],
   "source": [
    "sparql_results =  {name:result[['screenwriterLabel.value', \n",
    "                                'screenwriterEducationLabel.value', \n",
    "                                'screenwriterEducationLocation.value']] \n",
    "                   for name, result in pd_results.items()}"
   ]
  },
  {
   "cell_type": "code",
   "execution_count": 35,
   "metadata": {},
   "outputs": [],
   "source": [
    "sparql_results_list = list(sparql_results.items())\n",
    "def show(id):\n",
    "    print(sparql_results_list[id][0])\n",
    "    return sparql_results_list[id][1]"
   ]
  },
  {
   "cell_type": "code",
   "execution_count": 36,
   "metadata": {
    "scrolled": false
   },
   "outputs": [
    {
     "name": "stdout",
     "output_type": "stream",
     "text": [
      "The Dark Knight\n"
     ]
    },
    {
     "data": {
      "text/html": [
       "<div>\n",
       "<style scoped>\n",
       "    .dataframe tbody tr th:only-of-type {\n",
       "        vertical-align: middle;\n",
       "    }\n",
       "\n",
       "    .dataframe tbody tr th {\n",
       "        vertical-align: top;\n",
       "    }\n",
       "\n",
       "    .dataframe thead th {\n",
       "        text-align: right;\n",
       "    }\n",
       "</style>\n",
       "<table border=\"1\" class=\"dataframe\">\n",
       "  <thead>\n",
       "    <tr style=\"text-align: right;\">\n",
       "      <th></th>\n",
       "      <th>screenwriterLabel.value</th>\n",
       "      <th>screenwriterEducationLabel.value</th>\n",
       "      <th>screenwriterEducationLocation.value</th>\n",
       "    </tr>\n",
       "  </thead>\n",
       "  <tbody>\n",
       "    <tr>\n",
       "      <th>0</th>\n",
       "      <td>Дэвид Гойер</td>\n",
       "      <td>Университет Южной Калифорнии</td>\n",
       "      <td>Point(-118.285278 34.021667)</td>\n",
       "    </tr>\n",
       "    <tr>\n",
       "      <th>1</th>\n",
       "      <td>Кейн, Боб</td>\n",
       "      <td>Купер-юнион</td>\n",
       "      <td>Point(-73.99058 40.72927)</td>\n",
       "    </tr>\n",
       "    <tr>\n",
       "      <th>2</th>\n",
       "      <td>Кристофер Нолан</td>\n",
       "      <td>Университетский колледж Лондона</td>\n",
       "      <td>Point(-0.1340401 51.5245592)</td>\n",
       "    </tr>\n",
       "    <tr>\n",
       "      <th>3</th>\n",
       "      <td>Джонатан Нолан</td>\n",
       "      <td>Джорджтаунский университет</td>\n",
       "      <td>Point(-77.072777777 38.907222222)</td>\n",
       "    </tr>\n",
       "    <tr>\n",
       "      <th>4</th>\n",
       "      <td>Дэвид Гойер</td>\n",
       "      <td>Школа кинематографических искусств Университет...</td>\n",
       "      <td>Point(-118.285833 34.023056)</td>\n",
       "    </tr>\n",
       "    <tr>\n",
       "      <th>5</th>\n",
       "      <td>Кейн, Боб</td>\n",
       "      <td>Средняя школа ДеВитта Клинтона</td>\n",
       "      <td>Point(-73.8865 40.8811)</td>\n",
       "    </tr>\n",
       "    <tr>\n",
       "      <th>6</th>\n",
       "      <td>Билл Фингер</td>\n",
       "      <td>Средняя школа ДеВитта Клинтона</td>\n",
       "      <td>Point(-73.8865 40.8811)</td>\n",
       "    </tr>\n",
       "    <tr>\n",
       "      <th>7</th>\n",
       "      <td>Кристофер Нолан</td>\n",
       "      <td>Haileybury and Imperial Service College</td>\n",
       "      <td>Point(-0.033333 51.7787)</td>\n",
       "    </tr>\n",
       "  </tbody>\n",
       "</table>\n",
       "</div>"
      ],
      "text/plain": [
       "  screenwriterLabel.value                   screenwriterEducationLabel.value  \\\n",
       "0             Дэвид Гойер                       Университет Южной Калифорнии   \n",
       "1               Кейн, Боб                                        Купер-юнион   \n",
       "2         Кристофер Нолан                    Университетский колледж Лондона   \n",
       "3          Джонатан Нолан                         Джорджтаунский университет   \n",
       "4             Дэвид Гойер  Школа кинематографических искусств Университет...   \n",
       "5               Кейн, Боб                     Средняя школа ДеВитта Клинтона   \n",
       "6             Билл Фингер                     Средняя школа ДеВитта Клинтона   \n",
       "7         Кристофер Нолан            Haileybury and Imperial Service College   \n",
       "\n",
       "  screenwriterEducationLocation.value  \n",
       "0        Point(-118.285278 34.021667)  \n",
       "1           Point(-73.99058 40.72927)  \n",
       "2        Point(-0.1340401 51.5245592)  \n",
       "3   Point(-77.072777777 38.907222222)  \n",
       "4        Point(-118.285833 34.023056)  \n",
       "5             Point(-73.8865 40.8811)  \n",
       "6             Point(-73.8865 40.8811)  \n",
       "7            Point(-0.033333 51.7787)  "
      ]
     },
     "execution_count": 36,
     "metadata": {},
     "output_type": "execute_result"
    }
   ],
   "source": [
    "show(0)"
   ]
  },
  {
   "cell_type": "code",
   "execution_count": 37,
   "metadata": {
    "scrolled": true
   },
   "outputs": [
    {
     "name": "stdout",
     "output_type": "stream",
     "text": [
      "Schindler's List\n"
     ]
    },
    {
     "data": {
      "text/html": [
       "<div>\n",
       "<style scoped>\n",
       "    .dataframe tbody tr th:only-of-type {\n",
       "        vertical-align: middle;\n",
       "    }\n",
       "\n",
       "    .dataframe tbody tr th {\n",
       "        vertical-align: top;\n",
       "    }\n",
       "\n",
       "    .dataframe thead th {\n",
       "        text-align: right;\n",
       "    }\n",
       "</style>\n",
       "<table border=\"1\" class=\"dataframe\">\n",
       "  <thead>\n",
       "    <tr style=\"text-align: right;\">\n",
       "      <th></th>\n",
       "      <th>screenwriterLabel.value</th>\n",
       "      <th>screenwriterEducationLabel.value</th>\n",
       "      <th>screenwriterEducationLocation.value</th>\n",
       "    </tr>\n",
       "  </thead>\n",
       "  <tbody>\n",
       "    <tr>\n",
       "      <th>0</th>\n",
       "      <td>Стивен Заиллян</td>\n",
       "      <td>Университет штата в Сан-Франциско</td>\n",
       "      <td>Point(-122.479722222 37.723333333)</td>\n",
       "    </tr>\n",
       "  </tbody>\n",
       "</table>\n",
       "</div>"
      ],
      "text/plain": [
       "  screenwriterLabel.value   screenwriterEducationLabel.value  \\\n",
       "0          Стивен Заиллян  Университет штата в Сан-Франциско   \n",
       "\n",
       "  screenwriterEducationLocation.value  \n",
       "0  Point(-122.479722222 37.723333333)  "
      ]
     },
     "execution_count": 37,
     "metadata": {},
     "output_type": "execute_result"
    }
   ],
   "source": [
    "show(1)"
   ]
  },
  {
   "cell_type": "code",
   "execution_count": 38,
   "metadata": {
    "scrolled": true
   },
   "outputs": [
    {
     "name": "stdout",
     "output_type": "stream",
     "text": [
      "Goodfellas\n"
     ]
    },
    {
     "data": {
      "text/html": [
       "<div>\n",
       "<style scoped>\n",
       "    .dataframe tbody tr th:only-of-type {\n",
       "        vertical-align: middle;\n",
       "    }\n",
       "\n",
       "    .dataframe tbody tr th {\n",
       "        vertical-align: top;\n",
       "    }\n",
       "\n",
       "    .dataframe thead th {\n",
       "        text-align: right;\n",
       "    }\n",
       "</style>\n",
       "<table border=\"1\" class=\"dataframe\">\n",
       "  <thead>\n",
       "    <tr style=\"text-align: right;\">\n",
       "      <th></th>\n",
       "      <th>screenwriterLabel.value</th>\n",
       "      <th>screenwriterEducationLabel.value</th>\n",
       "      <th>screenwriterEducationLocation.value</th>\n",
       "    </tr>\n",
       "  </thead>\n",
       "  <tbody>\n",
       "    <tr>\n",
       "      <th>0</th>\n",
       "      <td>Мартин Скорсезе</td>\n",
       "      <td>Тишская школа искусств</td>\n",
       "      <td>Point(-73.99377778 40.72922222)</td>\n",
       "    </tr>\n",
       "  </tbody>\n",
       "</table>\n",
       "</div>"
      ],
      "text/plain": [
       "  screenwriterLabel.value screenwriterEducationLabel.value  \\\n",
       "0         Мартин Скорсезе           Тишская школа искусств   \n",
       "\n",
       "  screenwriterEducationLocation.value  \n",
       "0     Point(-73.99377778 40.72922222)  "
      ]
     },
     "execution_count": 38,
     "metadata": {},
     "output_type": "execute_result"
    }
   ],
   "source": [
    "show(2)"
   ]
  },
  {
   "cell_type": "code",
   "execution_count": 39,
   "metadata": {
    "scrolled": true
   },
   "outputs": [
    {
     "name": "stdout",
     "output_type": "stream",
     "text": [
      "The Matrix\n"
     ]
    },
    {
     "data": {
      "text/html": [
       "<div>\n",
       "<style scoped>\n",
       "    .dataframe tbody tr th:only-of-type {\n",
       "        vertical-align: middle;\n",
       "    }\n",
       "\n",
       "    .dataframe tbody tr th {\n",
       "        vertical-align: top;\n",
       "    }\n",
       "\n",
       "    .dataframe thead th {\n",
       "        text-align: right;\n",
       "    }\n",
       "</style>\n",
       "<table border=\"1\" class=\"dataframe\">\n",
       "  <thead>\n",
       "    <tr style=\"text-align: right;\">\n",
       "      <th></th>\n",
       "      <th>screenwriterLabel.value</th>\n",
       "      <th>screenwriterEducationLabel.value</th>\n",
       "      <th>screenwriterEducationLocation.value</th>\n",
       "    </tr>\n",
       "  </thead>\n",
       "  <tbody>\n",
       "    <tr>\n",
       "      <th>0</th>\n",
       "      <td>Лили Вачовски</td>\n",
       "      <td>Колледж Эмерсон</td>\n",
       "      <td>Point(-71.065994 42.351807)</td>\n",
       "    </tr>\n",
       "    <tr>\n",
       "      <th>1</th>\n",
       "      <td>Лили Вачовски</td>\n",
       "      <td>Whitney M. Young Magnet High School</td>\n",
       "      <td>Point(-87.6636 41.8782)</td>\n",
       "    </tr>\n",
       "  </tbody>\n",
       "</table>\n",
       "</div>"
      ],
      "text/plain": [
       "  screenwriterLabel.value     screenwriterEducationLabel.value  \\\n",
       "0           Лили Вачовски                      Колледж Эмерсон   \n",
       "1           Лили Вачовски  Whitney M. Young Magnet High School   \n",
       "\n",
       "  screenwriterEducationLocation.value  \n",
       "0         Point(-71.065994 42.351807)  \n",
       "1             Point(-87.6636 41.8782)  "
      ]
     },
     "execution_count": 39,
     "metadata": {},
     "output_type": "execute_result"
    }
   ],
   "source": [
    "show(3)"
   ]
  },
  {
   "cell_type": "code",
   "execution_count": 40,
   "metadata": {
    "scrolled": true
   },
   "outputs": [
    {
     "name": "stdout",
     "output_type": "stream",
     "text": [
      "It's a Wonderful Life\n"
     ]
    },
    {
     "data": {
      "text/html": [
       "<div>\n",
       "<style scoped>\n",
       "    .dataframe tbody tr th:only-of-type {\n",
       "        vertical-align: middle;\n",
       "    }\n",
       "\n",
       "    .dataframe tbody tr th {\n",
       "        vertical-align: top;\n",
       "    }\n",
       "\n",
       "    .dataframe thead th {\n",
       "        text-align: right;\n",
       "    }\n",
       "</style>\n",
       "<table border=\"1\" class=\"dataframe\">\n",
       "  <thead>\n",
       "    <tr style=\"text-align: right;\">\n",
       "      <th></th>\n",
       "      <th>screenwriterLabel.value</th>\n",
       "      <th>screenwriterEducationLabel.value</th>\n",
       "      <th>screenwriterEducationLocation.value</th>\n",
       "    </tr>\n",
       "  </thead>\n",
       "  <tbody>\n",
       "    <tr>\n",
       "      <th>0</th>\n",
       "      <td>Фрэнсис Гудрич</td>\n",
       "      <td>Колумбийский университет</td>\n",
       "      <td>Point(-73.961944444 40.8075)</td>\n",
       "    </tr>\n",
       "    <tr>\n",
       "      <th>1</th>\n",
       "      <td>Капра, Фрэнк</td>\n",
       "      <td>Калифорнийский технологический институт</td>\n",
       "      <td>Point(-118.125 34.1375)</td>\n",
       "    </tr>\n",
       "    <tr>\n",
       "      <th>2</th>\n",
       "      <td>Майкл Уилсон</td>\n",
       "      <td>Калифорнийский университет в Беркли</td>\n",
       "      <td>Point(-122.259 37.87)</td>\n",
       "    </tr>\n",
       "    <tr>\n",
       "      <th>3</th>\n",
       "      <td>Филип Ван Дорен Стерн</td>\n",
       "      <td>Ратгерский университет</td>\n",
       "      <td>Point(-74.448055555 40.501666666)</td>\n",
       "    </tr>\n",
       "    <tr>\n",
       "      <th>4</th>\n",
       "      <td>Фрэнсис Гудрич</td>\n",
       "      <td>Колледж Вассара</td>\n",
       "      <td>Point(-73.895188888 41.686866666)</td>\n",
       "    </tr>\n",
       "    <tr>\n",
       "      <th>5</th>\n",
       "      <td>Фрэнсис Гудрич</td>\n",
       "      <td>Columbia University School of Social Work</td>\n",
       "      <td>Point(-73.958352777 40.810252777)</td>\n",
       "    </tr>\n",
       "  </tbody>\n",
       "</table>\n",
       "</div>"
      ],
      "text/plain": [
       "  screenwriterLabel.value           screenwriterEducationLabel.value  \\\n",
       "0          Фрэнсис Гудрич                   Колумбийский университет   \n",
       "1            Капра, Фрэнк    Калифорнийский технологический институт   \n",
       "2            Майкл Уилсон        Калифорнийский университет в Беркли   \n",
       "3   Филип Ван Дорен Стерн                     Ратгерский университет   \n",
       "4          Фрэнсис Гудрич                            Колледж Вассара   \n",
       "5          Фрэнсис Гудрич  Columbia University School of Social Work   \n",
       "\n",
       "  screenwriterEducationLocation.value  \n",
       "0        Point(-73.961944444 40.8075)  \n",
       "1             Point(-118.125 34.1375)  \n",
       "2               Point(-122.259 37.87)  \n",
       "3   Point(-74.448055555 40.501666666)  \n",
       "4   Point(-73.895188888 41.686866666)  \n",
       "5   Point(-73.958352777 40.810252777)  "
      ]
     },
     "execution_count": 40,
     "metadata": {},
     "output_type": "execute_result"
    }
   ],
   "source": [
    "show(4)"
   ]
  },
  {
   "cell_type": "code",
   "execution_count": 41,
   "metadata": {
    "scrolled": true
   },
   "outputs": [
    {
     "name": "stdout",
     "output_type": "stream",
     "text": [
      "Life Is Beautiful\n"
     ]
    },
    {
     "data": {
      "text/html": [
       "<div>\n",
       "<style scoped>\n",
       "    .dataframe tbody tr th:only-of-type {\n",
       "        vertical-align: middle;\n",
       "    }\n",
       "\n",
       "    .dataframe tbody tr th {\n",
       "        vertical-align: top;\n",
       "    }\n",
       "\n",
       "    .dataframe thead th {\n",
       "        text-align: right;\n",
       "    }\n",
       "</style>\n",
       "<table border=\"1\" class=\"dataframe\">\n",
       "  <thead>\n",
       "    <tr style=\"text-align: right;\">\n",
       "      <th></th>\n",
       "      <th>screenwriterLabel.value</th>\n",
       "      <th>screenwriterEducationLabel.value</th>\n",
       "      <th>screenwriterEducationLocation.value</th>\n",
       "    </tr>\n",
       "  </thead>\n",
       "  <tbody>\n",
       "    <tr>\n",
       "      <th>0</th>\n",
       "      <td>Черами, Винченцо</td>\n",
       "      <td>Римский университет Ла Сапиенца</td>\n",
       "      <td>Point(12.515833333 41.903333333)</td>\n",
       "    </tr>\n",
       "  </tbody>\n",
       "</table>\n",
       "</div>"
      ],
      "text/plain": [
       "  screenwriterLabel.value screenwriterEducationLabel.value  \\\n",
       "0        Черами, Винченцо  Римский университет Ла Сапиенца   \n",
       "\n",
       "  screenwriterEducationLocation.value  \n",
       "0    Point(12.515833333 41.903333333)  "
      ]
     },
     "execution_count": 41,
     "metadata": {},
     "output_type": "execute_result"
    }
   ],
   "source": [
    "show(5)"
   ]
  },
  {
   "cell_type": "code",
   "execution_count": 42,
   "metadata": {
    "scrolled": true
   },
   "outputs": [
    {
     "name": "stdout",
     "output_type": "stream",
     "text": [
      "The Green Mile\n"
     ]
    },
    {
     "data": {
      "text/html": [
       "<div>\n",
       "<style scoped>\n",
       "    .dataframe tbody tr th:only-of-type {\n",
       "        vertical-align: middle;\n",
       "    }\n",
       "\n",
       "    .dataframe tbody tr th {\n",
       "        vertical-align: top;\n",
       "    }\n",
       "\n",
       "    .dataframe thead th {\n",
       "        text-align: right;\n",
       "    }\n",
       "</style>\n",
       "<table border=\"1\" class=\"dataframe\">\n",
       "  <thead>\n",
       "    <tr style=\"text-align: right;\">\n",
       "      <th></th>\n",
       "      <th>screenwriterLabel.value</th>\n",
       "      <th>screenwriterEducationLabel.value</th>\n",
       "      <th>screenwriterEducationLocation.value</th>\n",
       "    </tr>\n",
       "  </thead>\n",
       "  <tbody>\n",
       "    <tr>\n",
       "      <th>0</th>\n",
       "      <td>Дарабонт, Фрэнк</td>\n",
       "      <td>Голливудская старшая школа</td>\n",
       "      <td>Point(-118.340068 34.099148)</td>\n",
       "    </tr>\n",
       "  </tbody>\n",
       "</table>\n",
       "</div>"
      ],
      "text/plain": [
       "  screenwriterLabel.value screenwriterEducationLabel.value  \\\n",
       "0         Дарабонт, Фрэнк       Голливудская старшая школа   \n",
       "\n",
       "  screenwriterEducationLocation.value  \n",
       "0        Point(-118.340068 34.099148)  "
      ]
     },
     "execution_count": 42,
     "metadata": {},
     "output_type": "execute_result"
    }
   ],
   "source": [
    "show(6)"
   ]
  },
  {
   "cell_type": "code",
   "execution_count": 43,
   "metadata": {},
   "outputs": [
    {
     "ename": "IndexError",
     "evalue": "list index out of range",
     "output_type": "error",
     "traceback": [
      "\u001b[0;31m---------------------------------------------------------------------------\u001b[0m",
      "\u001b[0;31mIndexError\u001b[0m                                Traceback (most recent call last)",
      "\u001b[0;32m<ipython-input-43-e998d81d825c>\u001b[0m in \u001b[0;36m<module>\u001b[0;34m\u001b[0m\n\u001b[0;32m----> 1\u001b[0;31m \u001b[0mshow\u001b[0m\u001b[0;34m(\u001b[0m\u001b[0;36m7\u001b[0m\u001b[0;34m)\u001b[0m\u001b[0;34m\u001b[0m\u001b[0;34m\u001b[0m\u001b[0m\n\u001b[0m",
      "\u001b[0;32m<ipython-input-35-c46a11966e4e>\u001b[0m in \u001b[0;36mshow\u001b[0;34m(id)\u001b[0m\n\u001b[1;32m      1\u001b[0m \u001b[0msparql_results_list\u001b[0m \u001b[0;34m=\u001b[0m \u001b[0mlist\u001b[0m\u001b[0;34m(\u001b[0m\u001b[0msparql_results\u001b[0m\u001b[0;34m.\u001b[0m\u001b[0mitems\u001b[0m\u001b[0;34m(\u001b[0m\u001b[0;34m)\u001b[0m\u001b[0;34m)\u001b[0m\u001b[0;34m\u001b[0m\u001b[0;34m\u001b[0m\u001b[0m\n\u001b[1;32m      2\u001b[0m \u001b[0;32mdef\u001b[0m \u001b[0mshow\u001b[0m\u001b[0;34m(\u001b[0m\u001b[0mid\u001b[0m\u001b[0;34m)\u001b[0m\u001b[0;34m:\u001b[0m\u001b[0;34m\u001b[0m\u001b[0;34m\u001b[0m\u001b[0m\n\u001b[0;32m----> 3\u001b[0;31m     \u001b[0mprint\u001b[0m\u001b[0;34m(\u001b[0m\u001b[0msparql_results_list\u001b[0m\u001b[0;34m[\u001b[0m\u001b[0mid\u001b[0m\u001b[0;34m]\u001b[0m\u001b[0;34m[\u001b[0m\u001b[0;36m0\u001b[0m\u001b[0;34m]\u001b[0m\u001b[0;34m)\u001b[0m\u001b[0;34m\u001b[0m\u001b[0;34m\u001b[0m\u001b[0m\n\u001b[0m\u001b[1;32m      4\u001b[0m     \u001b[0;32mreturn\u001b[0m \u001b[0msparql_results_list\u001b[0m\u001b[0;34m[\u001b[0m\u001b[0mid\u001b[0m\u001b[0;34m]\u001b[0m\u001b[0;34m[\u001b[0m\u001b[0;36m1\u001b[0m\u001b[0;34m]\u001b[0m\u001b[0;34m\u001b[0m\u001b[0;34m\u001b[0m\u001b[0m\n",
      "\u001b[0;31mIndexError\u001b[0m: list index out of range"
     ]
    }
   ],
   "source": [
    "show(7) # no"
   ]
  }
 ],
 "metadata": {
  "kernelspec": {
   "display_name": "Python 3",
   "language": "python",
   "name": "python3"
  },
  "language_info": {
   "codemirror_mode": {
    "name": "ipython",
    "version": 3
   },
   "file_extension": ".py",
   "mimetype": "text/x-python",
   "name": "python",
   "nbconvert_exporter": "python",
   "pygments_lexer": "ipython3",
   "version": "3.7.9"
  }
 },
 "nbformat": 4,
 "nbformat_minor": 4
}
